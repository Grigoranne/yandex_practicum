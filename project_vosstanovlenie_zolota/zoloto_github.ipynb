{
 "cells": [
  {
   "cell_type": "markdown",
   "metadata": {
    "toc": true
   },
   "source": [
    "<h1>Содержание<span class=\"tocSkip\"></span></h1>\n",
    "<div class=\"toc\"><ul class=\"toc-item\"><li><span><a href=\"#Подготовка-данных\" data-toc-modified-id=\"Подготовка-данных-1\"><span class=\"toc-item-num\">1&nbsp;&nbsp;</span>Подготовка данных</a></span><ul class=\"toc-item\"><li><span><a href=\"#Откроем-и-изучим-файлы.\" data-toc-modified-id=\"Откроем-и-изучим-файлы.-1.1\"><span class=\"toc-item-num\">1.1&nbsp;&nbsp;</span>Откроем и изучим файлы.</a></span></li><li><span><a href=\"#Проверим-расчет-эффективности-обогащения.\" data-toc-modified-id=\"Проверим-расчет-эффективности-обогащения.-1.2\"><span class=\"toc-item-num\">1.2&nbsp;&nbsp;</span>Проверим расчет эффективности обогащения.</a></span></li><li><span><a href=\"#Проанализируем-признаки,-недоступные-в-тестовой-выборке.\" data-toc-modified-id=\"Проанализируем-признаки,-недоступные-в-тестовой-выборке.-1.3\"><span class=\"toc-item-num\">1.3&nbsp;&nbsp;</span>Проанализируем признаки, недоступные в тестовой выборке.</a></span></li><li><span><a href=\"#Предобработка-данных.\" data-toc-modified-id=\"Предобработка-данных.-1.4\"><span class=\"toc-item-num\">1.4&nbsp;&nbsp;</span>Предобработка данных.</a></span></li></ul></li><li><span><a href=\"#Анализ-данных\" data-toc-modified-id=\"Анализ-данных-2\"><span class=\"toc-item-num\">2&nbsp;&nbsp;</span>Анализ данных</a></span><ul class=\"toc-item\"><li><span><a href=\"#Рассмотрим-изменение-концентрации-металлов-(Au,-Ag,-Pb)-на-различных-этапах-очистки.\" data-toc-modified-id=\"Рассмотрим-изменение-концентрации-металлов-(Au,-Ag,-Pb)-на-различных-этапах-очистки.-2.1\"><span class=\"toc-item-num\">2.1&nbsp;&nbsp;</span>Рассмотрим изменение концентрации металлов (Au, Ag, Pb) на различных этапах очистки.</a></span></li><li><span><a href=\"#Распределение-размеров-гранул-сырья-на-обучающей-и-тестовой-выборках.\" data-toc-modified-id=\"Распределение-размеров-гранул-сырья-на-обучающей-и-тестовой-выборках.-2.2\"><span class=\"toc-item-num\">2.2&nbsp;&nbsp;</span>Распределение размеров гранул сырья на обучающей и тестовой выборках.</a></span></li><li><span><a href=\"#Исследуем-суммарную-концентрацию-всех-веществ-на-разных-стадиях:-в-сырье,-в-черновом-и-финальном-концентратах.\" data-toc-modified-id=\"Исследуем-суммарную-концентрацию-всех-веществ-на-разных-стадиях:-в-сырье,-в-черновом-и-финальном-концентратах.-2.3\"><span class=\"toc-item-num\">2.3&nbsp;&nbsp;</span>Исследуем суммарную концентрацию всех веществ на разных стадиях: в сырье, в черновом и финальном концентратах.</a></span></li></ul></li><li><span><a href=\"#Модель\" data-toc-modified-id=\"Модель-3\"><span class=\"toc-item-num\">3&nbsp;&nbsp;</span>Модель</a></span><ul class=\"toc-item\"><li><span><a href=\"#Подготовка-обучающей-и-тестовой-выборок.\" data-toc-modified-id=\"Подготовка-обучающей-и-тестовой-выборок.-3.1\"><span class=\"toc-item-num\">3.1&nbsp;&nbsp;</span>Подготовка обучающей и тестовой выборок.</a></span></li><li><span><a href=\"#Функции-для-вычисления--sMAPE\" data-toc-modified-id=\"Функции-для-вычисления--sMAPE-3.2\"><span class=\"toc-item-num\">3.2&nbsp;&nbsp;</span>Функции для вычисления  sMAPE</a></span></li><li><span><a href=\"#Обучение-моделей-моделей-и-оценка-их-качества-кросс-валидацией\" data-toc-modified-id=\"Обучение-моделей-моделей-и-оценка-их-качества-кросс-валидацией-3.3\"><span class=\"toc-item-num\">3.3&nbsp;&nbsp;</span>Обучение моделей моделей и оценка их качества кросс-валидацией</a></span></li><li><span><a href=\"#Проверка-лучшей-модели-на-тестовой-выборке.\" data-toc-modified-id=\"Проверка-лучшей-модели-на-тестовой-выборке.-3.4\"><span class=\"toc-item-num\">3.4&nbsp;&nbsp;</span>Проверка лучшей модели на тестовой выборке.</a></span></li></ul></li><li><span><a href=\"#Общий-вывод\" data-toc-modified-id=\"Общий-вывод-4\"><span class=\"toc-item-num\">4&nbsp;&nbsp;</span>Общий вывод</a></span></li><li><span><a href=\"#Чек-лист-готовности-проекта\" data-toc-modified-id=\"Чек-лист-готовности-проекта-5\"><span class=\"toc-item-num\">5&nbsp;&nbsp;</span>Чек-лист готовности проекта</a></span></li></ul></div>"
   ]
  },
  {
   "cell_type": "markdown",
   "metadata": {},
   "source": [
    "# Восстановление золота из руды"
   ]
  },
  {
   "cell_type": "markdown",
   "metadata": {},
   "source": [
    "Подготовим прототип модели машинного обучения для «Цифры». Компания разрабатывает решения для эффективной работы промышленных предприятий.\n",
    "\n",
    "Модель должна предсказать коэффициент восстановления золота из золотосодержащей руды. Используем данные с параметрами добычи и очистки. \n",
    "\n",
    "Модель поможет оптимизировать производство, чтобы не запускать предприятие с убыточными характеристиками.\n",
    "\n",
    "Нам нужно:\n",
    "\n",
    "1. Подготовить данные;\n",
    "2. Провести исследовательский анализ данных;\n",
    "3. Построить и обучить модель.\n",
    "\n",
    "***Описание данных***\n",
    "\n",
    "Технологический процесс:\n",
    "\n",
    "* \t\tRougher feed — исходное сырье\n",
    "* \t\tRougher additions (или reagent additions) — флотационные реагенты: Xanthate, Sulphate, Depressant\n",
    " \t\t  \n",
    "    * \t\tXanthate **— ксантогенат (промотер, или активатор флотации);\n",
    "    * \t\tSulphate — сульфат (на данном производстве сульфид натрия);\n",
    "    * \t\tDepressant — депрессант (силикат натрия).\n",
    "* \t\tRougher process (англ. «грубый процесс») — флотация\n",
    "* \t\tRougher tails — отвальные хвосты\n",
    "* \t\tFloat banks — флотационная установка\n",
    "* \t\tCleaner process — очистка\n",
    "* \t\tRougher Au — черновой концентрат золота\n",
    "* \t\tFinal Au — финальный концентрат золота\n",
    "\n",
    "Параметры этапов:\n",
    "\n",
    "* \t\tair amount — объём воздуха\n",
    "* \t\tfluid levels — уровень жидкости\n",
    "* \t\tfeed size — размер гранул сырья\n",
    "* \t\tfeed rate — скорость подачи"
   ]
  },
  {
   "cell_type": "markdown",
   "metadata": {},
   "source": [
    "## Подготовка данных"
   ]
  },
  {
   "cell_type": "code",
   "execution_count": 1,
   "metadata": {},
   "outputs": [],
   "source": [
    "#импортируем библиотеки\n",
    "import pandas as pd\n",
    "import numpy as np\n",
    "import matplotlib.pyplot as plt\n",
    "import seaborn as sns\n",
    "\n",
    "from sklearn.dummy import DummyRegressor\n",
    "from sklearn.metrics import mean_absolute_error, make_scorer\n",
    "from sklearn.model_selection import cross_val_score\n",
    "from sklearn.linear_model import LinearRegression\n",
    "from sklearn.tree import DecisionTreeRegressor\n",
    "from sklearn.ensemble import RandomForestRegressor\n",
    "from sklearn.preprocessing import StandardScaler"
   ]
  },
  {
   "cell_type": "markdown",
   "metadata": {},
   "source": [
    "### Откроем и изучим файлы."
   ]
  },
  {
   "cell_type": "code",
   "execution_count": 2,
   "metadata": {},
   "outputs": [],
   "source": [
    "#откроем файлы и сохраним в переменные\n",
    "gold_train = pd.read_csv('/datasets/gold_recovery_train_new.csv')\n",
    "gold_test = pd.read_csv('/datasets/gold_recovery_test_new.csv')\n",
    "gold_full = pd.read_csv('/datasets/gold_recovery_full_new.csv')"
   ]
  },
  {
   "cell_type": "code",
   "execution_count": 3,
   "metadata": {},
   "outputs": [
    {
     "data": {
      "text/html": [
       "<div>\n",
       "<style scoped>\n",
       "    .dataframe tbody tr th:only-of-type {\n",
       "        vertical-align: middle;\n",
       "    }\n",
       "\n",
       "    .dataframe tbody tr th {\n",
       "        vertical-align: top;\n",
       "    }\n",
       "\n",
       "    .dataframe thead th {\n",
       "        text-align: right;\n",
       "    }\n",
       "</style>\n",
       "<table border=\"1\" class=\"dataframe\">\n",
       "  <thead>\n",
       "    <tr style=\"text-align: right;\">\n",
       "      <th></th>\n",
       "      <th>date</th>\n",
       "      <th>final.output.concentrate_ag</th>\n",
       "      <th>final.output.concentrate_pb</th>\n",
       "      <th>final.output.concentrate_sol</th>\n",
       "      <th>final.output.concentrate_au</th>\n",
       "      <th>final.output.recovery</th>\n",
       "      <th>final.output.tail_ag</th>\n",
       "      <th>final.output.tail_pb</th>\n",
       "      <th>final.output.tail_sol</th>\n",
       "      <th>final.output.tail_au</th>\n",
       "      <th>...</th>\n",
       "      <th>secondary_cleaner.state.floatbank4_a_air</th>\n",
       "      <th>secondary_cleaner.state.floatbank4_a_level</th>\n",
       "      <th>secondary_cleaner.state.floatbank4_b_air</th>\n",
       "      <th>secondary_cleaner.state.floatbank4_b_level</th>\n",
       "      <th>secondary_cleaner.state.floatbank5_a_air</th>\n",
       "      <th>secondary_cleaner.state.floatbank5_a_level</th>\n",
       "      <th>secondary_cleaner.state.floatbank5_b_air</th>\n",
       "      <th>secondary_cleaner.state.floatbank5_b_level</th>\n",
       "      <th>secondary_cleaner.state.floatbank6_a_air</th>\n",
       "      <th>secondary_cleaner.state.floatbank6_a_level</th>\n",
       "    </tr>\n",
       "  </thead>\n",
       "  <tbody>\n",
       "    <tr>\n",
       "      <th>0</th>\n",
       "      <td>2016-01-15 00:00:00</td>\n",
       "      <td>6.055403</td>\n",
       "      <td>9.889648</td>\n",
       "      <td>5.507324</td>\n",
       "      <td>42.192020</td>\n",
       "      <td>70.541216</td>\n",
       "      <td>10.411962</td>\n",
       "      <td>0.895447</td>\n",
       "      <td>16.904297</td>\n",
       "      <td>2.143149</td>\n",
       "      <td>...</td>\n",
       "      <td>14.016835</td>\n",
       "      <td>-502.488007</td>\n",
       "      <td>12.099931</td>\n",
       "      <td>-504.715942</td>\n",
       "      <td>9.925633</td>\n",
       "      <td>-498.310211</td>\n",
       "      <td>8.079666</td>\n",
       "      <td>-500.470978</td>\n",
       "      <td>14.151341</td>\n",
       "      <td>-605.841980</td>\n",
       "    </tr>\n",
       "    <tr>\n",
       "      <th>1</th>\n",
       "      <td>2016-01-15 01:00:00</td>\n",
       "      <td>6.029369</td>\n",
       "      <td>9.968944</td>\n",
       "      <td>5.257781</td>\n",
       "      <td>42.701629</td>\n",
       "      <td>69.266198</td>\n",
       "      <td>10.462676</td>\n",
       "      <td>0.927452</td>\n",
       "      <td>16.634514</td>\n",
       "      <td>2.224930</td>\n",
       "      <td>...</td>\n",
       "      <td>13.992281</td>\n",
       "      <td>-505.503262</td>\n",
       "      <td>11.950531</td>\n",
       "      <td>-501.331529</td>\n",
       "      <td>10.039245</td>\n",
       "      <td>-500.169983</td>\n",
       "      <td>7.984757</td>\n",
       "      <td>-500.582168</td>\n",
       "      <td>13.998353</td>\n",
       "      <td>-599.787184</td>\n",
       "    </tr>\n",
       "    <tr>\n",
       "      <th>2</th>\n",
       "      <td>2016-01-15 02:00:00</td>\n",
       "      <td>6.055926</td>\n",
       "      <td>10.213995</td>\n",
       "      <td>5.383759</td>\n",
       "      <td>42.657501</td>\n",
       "      <td>68.116445</td>\n",
       "      <td>10.507046</td>\n",
       "      <td>0.953716</td>\n",
       "      <td>16.208849</td>\n",
       "      <td>2.257889</td>\n",
       "      <td>...</td>\n",
       "      <td>14.015015</td>\n",
       "      <td>-502.520901</td>\n",
       "      <td>11.912783</td>\n",
       "      <td>-501.133383</td>\n",
       "      <td>10.070913</td>\n",
       "      <td>-500.129135</td>\n",
       "      <td>8.013877</td>\n",
       "      <td>-500.517572</td>\n",
       "      <td>14.028663</td>\n",
       "      <td>-601.427363</td>\n",
       "    </tr>\n",
       "    <tr>\n",
       "      <th>3</th>\n",
       "      <td>2016-01-15 03:00:00</td>\n",
       "      <td>6.047977</td>\n",
       "      <td>9.977019</td>\n",
       "      <td>4.858634</td>\n",
       "      <td>42.689819</td>\n",
       "      <td>68.347543</td>\n",
       "      <td>10.422762</td>\n",
       "      <td>0.883763</td>\n",
       "      <td>16.532835</td>\n",
       "      <td>2.146849</td>\n",
       "      <td>...</td>\n",
       "      <td>14.036510</td>\n",
       "      <td>-500.857308</td>\n",
       "      <td>11.999550</td>\n",
       "      <td>-501.193686</td>\n",
       "      <td>9.970366</td>\n",
       "      <td>-499.201640</td>\n",
       "      <td>7.977324</td>\n",
       "      <td>-500.255908</td>\n",
       "      <td>14.005551</td>\n",
       "      <td>-599.996129</td>\n",
       "    </tr>\n",
       "    <tr>\n",
       "      <th>4</th>\n",
       "      <td>2016-01-15 04:00:00</td>\n",
       "      <td>6.148599</td>\n",
       "      <td>10.142511</td>\n",
       "      <td>4.939416</td>\n",
       "      <td>42.774141</td>\n",
       "      <td>66.927016</td>\n",
       "      <td>10.360302</td>\n",
       "      <td>0.792826</td>\n",
       "      <td>16.525686</td>\n",
       "      <td>2.055292</td>\n",
       "      <td>...</td>\n",
       "      <td>14.027298</td>\n",
       "      <td>-499.838632</td>\n",
       "      <td>11.953070</td>\n",
       "      <td>-501.053894</td>\n",
       "      <td>9.925709</td>\n",
       "      <td>-501.686727</td>\n",
       "      <td>7.894242</td>\n",
       "      <td>-500.356035</td>\n",
       "      <td>13.996647</td>\n",
       "      <td>-601.496691</td>\n",
       "    </tr>\n",
       "  </tbody>\n",
       "</table>\n",
       "<p>5 rows × 87 columns</p>\n",
       "</div>"
      ],
      "text/plain": [
       "                  date  final.output.concentrate_ag  \\\n",
       "0  2016-01-15 00:00:00                     6.055403   \n",
       "1  2016-01-15 01:00:00                     6.029369   \n",
       "2  2016-01-15 02:00:00                     6.055926   \n",
       "3  2016-01-15 03:00:00                     6.047977   \n",
       "4  2016-01-15 04:00:00                     6.148599   \n",
       "\n",
       "   final.output.concentrate_pb  final.output.concentrate_sol  \\\n",
       "0                     9.889648                      5.507324   \n",
       "1                     9.968944                      5.257781   \n",
       "2                    10.213995                      5.383759   \n",
       "3                     9.977019                      4.858634   \n",
       "4                    10.142511                      4.939416   \n",
       "\n",
       "   final.output.concentrate_au  final.output.recovery  final.output.tail_ag  \\\n",
       "0                    42.192020              70.541216             10.411962   \n",
       "1                    42.701629              69.266198             10.462676   \n",
       "2                    42.657501              68.116445             10.507046   \n",
       "3                    42.689819              68.347543             10.422762   \n",
       "4                    42.774141              66.927016             10.360302   \n",
       "\n",
       "   final.output.tail_pb  final.output.tail_sol  final.output.tail_au  ...  \\\n",
       "0              0.895447              16.904297              2.143149  ...   \n",
       "1              0.927452              16.634514              2.224930  ...   \n",
       "2              0.953716              16.208849              2.257889  ...   \n",
       "3              0.883763              16.532835              2.146849  ...   \n",
       "4              0.792826              16.525686              2.055292  ...   \n",
       "\n",
       "   secondary_cleaner.state.floatbank4_a_air  \\\n",
       "0                                 14.016835   \n",
       "1                                 13.992281   \n",
       "2                                 14.015015   \n",
       "3                                 14.036510   \n",
       "4                                 14.027298   \n",
       "\n",
       "   secondary_cleaner.state.floatbank4_a_level  \\\n",
       "0                                 -502.488007   \n",
       "1                                 -505.503262   \n",
       "2                                 -502.520901   \n",
       "3                                 -500.857308   \n",
       "4                                 -499.838632   \n",
       "\n",
       "   secondary_cleaner.state.floatbank4_b_air  \\\n",
       "0                                 12.099931   \n",
       "1                                 11.950531   \n",
       "2                                 11.912783   \n",
       "3                                 11.999550   \n",
       "4                                 11.953070   \n",
       "\n",
       "   secondary_cleaner.state.floatbank4_b_level  \\\n",
       "0                                 -504.715942   \n",
       "1                                 -501.331529   \n",
       "2                                 -501.133383   \n",
       "3                                 -501.193686   \n",
       "4                                 -501.053894   \n",
       "\n",
       "   secondary_cleaner.state.floatbank5_a_air  \\\n",
       "0                                  9.925633   \n",
       "1                                 10.039245   \n",
       "2                                 10.070913   \n",
       "3                                  9.970366   \n",
       "4                                  9.925709   \n",
       "\n",
       "   secondary_cleaner.state.floatbank5_a_level  \\\n",
       "0                                 -498.310211   \n",
       "1                                 -500.169983   \n",
       "2                                 -500.129135   \n",
       "3                                 -499.201640   \n",
       "4                                 -501.686727   \n",
       "\n",
       "   secondary_cleaner.state.floatbank5_b_air  \\\n",
       "0                                  8.079666   \n",
       "1                                  7.984757   \n",
       "2                                  8.013877   \n",
       "3                                  7.977324   \n",
       "4                                  7.894242   \n",
       "\n",
       "   secondary_cleaner.state.floatbank5_b_level  \\\n",
       "0                                 -500.470978   \n",
       "1                                 -500.582168   \n",
       "2                                 -500.517572   \n",
       "3                                 -500.255908   \n",
       "4                                 -500.356035   \n",
       "\n",
       "   secondary_cleaner.state.floatbank6_a_air  \\\n",
       "0                                 14.151341   \n",
       "1                                 13.998353   \n",
       "2                                 14.028663   \n",
       "3                                 14.005551   \n",
       "4                                 13.996647   \n",
       "\n",
       "   secondary_cleaner.state.floatbank6_a_level  \n",
       "0                                 -605.841980  \n",
       "1                                 -599.787184  \n",
       "2                                 -601.427363  \n",
       "3                                 -599.996129  \n",
       "4                                 -601.496691  \n",
       "\n",
       "[5 rows x 87 columns]"
      ]
     },
     "execution_count": 3,
     "metadata": {},
     "output_type": "execute_result"
    }
   ],
   "source": [
    "#выведем первые 5 строк полного датафрейма\n",
    "gold_full.head()"
   ]
  },
  {
   "cell_type": "code",
   "execution_count": 4,
   "metadata": {
    "scrolled": true
   },
   "outputs": [
    {
     "name": "stdout",
     "output_type": "stream",
     "text": [
      "<class 'pandas.core.frame.DataFrame'>\n",
      "RangeIndex: 19439 entries, 0 to 19438\n",
      "Data columns (total 87 columns):\n",
      " #   Column                                              Non-Null Count  Dtype  \n",
      "---  ------                                              --------------  -----  \n",
      " 0   date                                                19439 non-null  object \n",
      " 1   final.output.concentrate_ag                         19438 non-null  float64\n",
      " 2   final.output.concentrate_pb                         19438 non-null  float64\n",
      " 3   final.output.concentrate_sol                        19228 non-null  float64\n",
      " 4   final.output.concentrate_au                         19439 non-null  float64\n",
      " 5   final.output.recovery                               19439 non-null  float64\n",
      " 6   final.output.tail_ag                                19438 non-null  float64\n",
      " 7   final.output.tail_pb                                19338 non-null  float64\n",
      " 8   final.output.tail_sol                               19433 non-null  float64\n",
      " 9   final.output.tail_au                                19439 non-null  float64\n",
      " 10  primary_cleaner.input.sulfate                       19415 non-null  float64\n",
      " 11  primary_cleaner.input.depressant                    19402 non-null  float64\n",
      " 12  primary_cleaner.input.feed_size                     19439 non-null  float64\n",
      " 13  primary_cleaner.input.xanthate                      19335 non-null  float64\n",
      " 14  primary_cleaner.output.concentrate_ag               19439 non-null  float64\n",
      " 15  primary_cleaner.output.concentrate_pb               19323 non-null  float64\n",
      " 16  primary_cleaner.output.concentrate_sol              19069 non-null  float64\n",
      " 17  primary_cleaner.output.concentrate_au               19439 non-null  float64\n",
      " 18  primary_cleaner.output.tail_ag                      19435 non-null  float64\n",
      " 19  primary_cleaner.output.tail_pb                      19418 non-null  float64\n",
      " 20  primary_cleaner.output.tail_sol                     19377 non-null  float64\n",
      " 21  primary_cleaner.output.tail_au                      19439 non-null  float64\n",
      " 22  primary_cleaner.state.floatbank8_a_air              19435 non-null  float64\n",
      " 23  primary_cleaner.state.floatbank8_a_level            19438 non-null  float64\n",
      " 24  primary_cleaner.state.floatbank8_b_air              19435 non-null  float64\n",
      " 25  primary_cleaner.state.floatbank8_b_level            19438 non-null  float64\n",
      " 26  primary_cleaner.state.floatbank8_c_air              19437 non-null  float64\n",
      " 27  primary_cleaner.state.floatbank8_c_level            19438 non-null  float64\n",
      " 28  primary_cleaner.state.floatbank8_d_air              19436 non-null  float64\n",
      " 29  primary_cleaner.state.floatbank8_d_level            19438 non-null  float64\n",
      " 30  rougher.calculation.sulfate_to_au_concentrate       19437 non-null  float64\n",
      " 31  rougher.calculation.floatbank10_sulfate_to_au_feed  19437 non-null  float64\n",
      " 32  rougher.calculation.floatbank11_sulfate_to_au_feed  19437 non-null  float64\n",
      " 33  rougher.calculation.au_pb_ratio                     19439 non-null  float64\n",
      " 34  rougher.input.feed_ag                               19439 non-null  float64\n",
      " 35  rougher.input.feed_pb                               19339 non-null  float64\n",
      " 36  rougher.input.feed_rate                             19428 non-null  float64\n",
      " 37  rougher.input.feed_size                             19294 non-null  float64\n",
      " 38  rougher.input.feed_sol                              19340 non-null  float64\n",
      " 39  rougher.input.feed_au                               19439 non-null  float64\n",
      " 40  rougher.input.floatbank10_sulfate                   19405 non-null  float64\n",
      " 41  rougher.input.floatbank10_xanthate                  19431 non-null  float64\n",
      " 42  rougher.input.floatbank11_sulfate                   19395 non-null  float64\n",
      " 43  rougher.input.floatbank11_xanthate                  18986 non-null  float64\n",
      " 44  rougher.output.concentrate_ag                       19439 non-null  float64\n",
      " 45  rougher.output.concentrate_pb                       19439 non-null  float64\n",
      " 46  rougher.output.concentrate_sol                      19416 non-null  float64\n",
      " 47  rougher.output.concentrate_au                       19439 non-null  float64\n",
      " 48  rougher.output.recovery                             19439 non-null  float64\n",
      " 49  rougher.output.tail_ag                              19438 non-null  float64\n",
      " 50  rougher.output.tail_pb                              19439 non-null  float64\n",
      " 51  rougher.output.tail_sol                             19439 non-null  float64\n",
      " 52  rougher.output.tail_au                              19439 non-null  float64\n",
      " 53  rougher.state.floatbank10_a_air                     19438 non-null  float64\n",
      " 54  rougher.state.floatbank10_a_level                   19438 non-null  float64\n",
      " 55  rougher.state.floatbank10_b_air                     19438 non-null  float64\n",
      " 56  rougher.state.floatbank10_b_level                   19438 non-null  float64\n",
      " 57  rougher.state.floatbank10_c_air                     19438 non-null  float64\n",
      " 58  rougher.state.floatbank10_c_level                   19438 non-null  float64\n",
      " 59  rougher.state.floatbank10_d_air                     19439 non-null  float64\n",
      " 60  rougher.state.floatbank10_d_level                   19439 non-null  float64\n",
      " 61  rougher.state.floatbank10_e_air                     19003 non-null  float64\n",
      " 62  rougher.state.floatbank10_e_level                   19439 non-null  float64\n",
      " 63  rougher.state.floatbank10_f_air                     19439 non-null  float64\n",
      " 64  rougher.state.floatbank10_f_level                   19439 non-null  float64\n",
      " 65  secondary_cleaner.output.tail_ag                    19437 non-null  float64\n",
      " 66  secondary_cleaner.output.tail_pb                    19427 non-null  float64\n",
      " 67  secondary_cleaner.output.tail_sol                   17691 non-null  float64\n",
      " 68  secondary_cleaner.output.tail_au                    19439 non-null  float64\n",
      " 69  secondary_cleaner.state.floatbank2_a_air            19219 non-null  float64\n",
      " 70  secondary_cleaner.state.floatbank2_a_level          19438 non-null  float64\n",
      " 71  secondary_cleaner.state.floatbank2_b_air            19416 non-null  float64\n",
      " 72  secondary_cleaner.state.floatbank2_b_level          19438 non-null  float64\n",
      " 73  secondary_cleaner.state.floatbank3_a_air            19426 non-null  float64\n",
      " 74  secondary_cleaner.state.floatbank3_a_level          19438 non-null  float64\n",
      " 75  secondary_cleaner.state.floatbank3_b_air            19438 non-null  float64\n",
      " 76  secondary_cleaner.state.floatbank3_b_level          19438 non-null  float64\n",
      " 77  secondary_cleaner.state.floatbank4_a_air            19433 non-null  float64\n",
      " 78  secondary_cleaner.state.floatbank4_a_level          19438 non-null  float64\n",
      " 79  secondary_cleaner.state.floatbank4_b_air            19438 non-null  float64\n",
      " 80  secondary_cleaner.state.floatbank4_b_level          19438 non-null  float64\n",
      " 81  secondary_cleaner.state.floatbank5_a_air            19438 non-null  float64\n",
      " 82  secondary_cleaner.state.floatbank5_a_level          19438 non-null  float64\n",
      " 83  secondary_cleaner.state.floatbank5_b_air            19438 non-null  float64\n",
      " 84  secondary_cleaner.state.floatbank5_b_level          19438 non-null  float64\n",
      " 85  secondary_cleaner.state.floatbank6_a_air            19437 non-null  float64\n",
      " 86  secondary_cleaner.state.floatbank6_a_level          19438 non-null  float64\n",
      "dtypes: float64(86), object(1)\n",
      "memory usage: 12.9+ MB\n"
     ]
    }
   ],
   "source": [
    "#посмотрим основную информацию о полном датафрейме\n",
    "gold_full.info()"
   ]
  },
  {
   "cell_type": "markdown",
   "metadata": {},
   "source": [
    "Мы видим, что в нескольких столбцах есть пропущенные значения. Также столбец с датой нужно преобразовать в тип \"datetime\"."
   ]
  },
  {
   "cell_type": "code",
   "execution_count": 5,
   "metadata": {},
   "outputs": [
    {
     "data": {
      "text/html": [
       "<div>\n",
       "<style scoped>\n",
       "    .dataframe tbody tr th:only-of-type {\n",
       "        vertical-align: middle;\n",
       "    }\n",
       "\n",
       "    .dataframe tbody tr th {\n",
       "        vertical-align: top;\n",
       "    }\n",
       "\n",
       "    .dataframe thead th {\n",
       "        text-align: right;\n",
       "    }\n",
       "</style>\n",
       "<table border=\"1\" class=\"dataframe\">\n",
       "  <thead>\n",
       "    <tr style=\"text-align: right;\">\n",
       "      <th></th>\n",
       "      <th>date</th>\n",
       "      <th>final.output.concentrate_ag</th>\n",
       "      <th>final.output.concentrate_pb</th>\n",
       "      <th>final.output.concentrate_sol</th>\n",
       "      <th>final.output.concentrate_au</th>\n",
       "      <th>final.output.recovery</th>\n",
       "      <th>final.output.tail_ag</th>\n",
       "      <th>final.output.tail_pb</th>\n",
       "      <th>final.output.tail_sol</th>\n",
       "      <th>final.output.tail_au</th>\n",
       "      <th>...</th>\n",
       "      <th>secondary_cleaner.state.floatbank4_a_air</th>\n",
       "      <th>secondary_cleaner.state.floatbank4_a_level</th>\n",
       "      <th>secondary_cleaner.state.floatbank4_b_air</th>\n",
       "      <th>secondary_cleaner.state.floatbank4_b_level</th>\n",
       "      <th>secondary_cleaner.state.floatbank5_a_air</th>\n",
       "      <th>secondary_cleaner.state.floatbank5_a_level</th>\n",
       "      <th>secondary_cleaner.state.floatbank5_b_air</th>\n",
       "      <th>secondary_cleaner.state.floatbank5_b_level</th>\n",
       "      <th>secondary_cleaner.state.floatbank6_a_air</th>\n",
       "      <th>secondary_cleaner.state.floatbank6_a_level</th>\n",
       "    </tr>\n",
       "  </thead>\n",
       "  <tbody>\n",
       "    <tr>\n",
       "      <th>0</th>\n",
       "      <td>2016-01-15 00:00:00</td>\n",
       "      <td>6.055403</td>\n",
       "      <td>9.889648</td>\n",
       "      <td>5.507324</td>\n",
       "      <td>42.192020</td>\n",
       "      <td>70.541216</td>\n",
       "      <td>10.411962</td>\n",
       "      <td>0.895447</td>\n",
       "      <td>16.904297</td>\n",
       "      <td>2.143149</td>\n",
       "      <td>...</td>\n",
       "      <td>14.016835</td>\n",
       "      <td>-502.488007</td>\n",
       "      <td>12.099931</td>\n",
       "      <td>-504.715942</td>\n",
       "      <td>9.925633</td>\n",
       "      <td>-498.310211</td>\n",
       "      <td>8.079666</td>\n",
       "      <td>-500.470978</td>\n",
       "      <td>14.151341</td>\n",
       "      <td>-605.841980</td>\n",
       "    </tr>\n",
       "    <tr>\n",
       "      <th>1</th>\n",
       "      <td>2016-01-15 01:00:00</td>\n",
       "      <td>6.029369</td>\n",
       "      <td>9.968944</td>\n",
       "      <td>5.257781</td>\n",
       "      <td>42.701629</td>\n",
       "      <td>69.266198</td>\n",
       "      <td>10.462676</td>\n",
       "      <td>0.927452</td>\n",
       "      <td>16.634514</td>\n",
       "      <td>2.224930</td>\n",
       "      <td>...</td>\n",
       "      <td>13.992281</td>\n",
       "      <td>-505.503262</td>\n",
       "      <td>11.950531</td>\n",
       "      <td>-501.331529</td>\n",
       "      <td>10.039245</td>\n",
       "      <td>-500.169983</td>\n",
       "      <td>7.984757</td>\n",
       "      <td>-500.582168</td>\n",
       "      <td>13.998353</td>\n",
       "      <td>-599.787184</td>\n",
       "    </tr>\n",
       "    <tr>\n",
       "      <th>2</th>\n",
       "      <td>2016-01-15 02:00:00</td>\n",
       "      <td>6.055926</td>\n",
       "      <td>10.213995</td>\n",
       "      <td>5.383759</td>\n",
       "      <td>42.657501</td>\n",
       "      <td>68.116445</td>\n",
       "      <td>10.507046</td>\n",
       "      <td>0.953716</td>\n",
       "      <td>16.208849</td>\n",
       "      <td>2.257889</td>\n",
       "      <td>...</td>\n",
       "      <td>14.015015</td>\n",
       "      <td>-502.520901</td>\n",
       "      <td>11.912783</td>\n",
       "      <td>-501.133383</td>\n",
       "      <td>10.070913</td>\n",
       "      <td>-500.129135</td>\n",
       "      <td>8.013877</td>\n",
       "      <td>-500.517572</td>\n",
       "      <td>14.028663</td>\n",
       "      <td>-601.427363</td>\n",
       "    </tr>\n",
       "    <tr>\n",
       "      <th>3</th>\n",
       "      <td>2016-01-15 03:00:00</td>\n",
       "      <td>6.047977</td>\n",
       "      <td>9.977019</td>\n",
       "      <td>4.858634</td>\n",
       "      <td>42.689819</td>\n",
       "      <td>68.347543</td>\n",
       "      <td>10.422762</td>\n",
       "      <td>0.883763</td>\n",
       "      <td>16.532835</td>\n",
       "      <td>2.146849</td>\n",
       "      <td>...</td>\n",
       "      <td>14.036510</td>\n",
       "      <td>-500.857308</td>\n",
       "      <td>11.999550</td>\n",
       "      <td>-501.193686</td>\n",
       "      <td>9.970366</td>\n",
       "      <td>-499.201640</td>\n",
       "      <td>7.977324</td>\n",
       "      <td>-500.255908</td>\n",
       "      <td>14.005551</td>\n",
       "      <td>-599.996129</td>\n",
       "    </tr>\n",
       "    <tr>\n",
       "      <th>4</th>\n",
       "      <td>2016-01-15 04:00:00</td>\n",
       "      <td>6.148599</td>\n",
       "      <td>10.142511</td>\n",
       "      <td>4.939416</td>\n",
       "      <td>42.774141</td>\n",
       "      <td>66.927016</td>\n",
       "      <td>10.360302</td>\n",
       "      <td>0.792826</td>\n",
       "      <td>16.525686</td>\n",
       "      <td>2.055292</td>\n",
       "      <td>...</td>\n",
       "      <td>14.027298</td>\n",
       "      <td>-499.838632</td>\n",
       "      <td>11.953070</td>\n",
       "      <td>-501.053894</td>\n",
       "      <td>9.925709</td>\n",
       "      <td>-501.686727</td>\n",
       "      <td>7.894242</td>\n",
       "      <td>-500.356035</td>\n",
       "      <td>13.996647</td>\n",
       "      <td>-601.496691</td>\n",
       "    </tr>\n",
       "  </tbody>\n",
       "</table>\n",
       "<p>5 rows × 87 columns</p>\n",
       "</div>"
      ],
      "text/plain": [
       "                  date  final.output.concentrate_ag  \\\n",
       "0  2016-01-15 00:00:00                     6.055403   \n",
       "1  2016-01-15 01:00:00                     6.029369   \n",
       "2  2016-01-15 02:00:00                     6.055926   \n",
       "3  2016-01-15 03:00:00                     6.047977   \n",
       "4  2016-01-15 04:00:00                     6.148599   \n",
       "\n",
       "   final.output.concentrate_pb  final.output.concentrate_sol  \\\n",
       "0                     9.889648                      5.507324   \n",
       "1                     9.968944                      5.257781   \n",
       "2                    10.213995                      5.383759   \n",
       "3                     9.977019                      4.858634   \n",
       "4                    10.142511                      4.939416   \n",
       "\n",
       "   final.output.concentrate_au  final.output.recovery  final.output.tail_ag  \\\n",
       "0                    42.192020              70.541216             10.411962   \n",
       "1                    42.701629              69.266198             10.462676   \n",
       "2                    42.657501              68.116445             10.507046   \n",
       "3                    42.689819              68.347543             10.422762   \n",
       "4                    42.774141              66.927016             10.360302   \n",
       "\n",
       "   final.output.tail_pb  final.output.tail_sol  final.output.tail_au  ...  \\\n",
       "0              0.895447              16.904297              2.143149  ...   \n",
       "1              0.927452              16.634514              2.224930  ...   \n",
       "2              0.953716              16.208849              2.257889  ...   \n",
       "3              0.883763              16.532835              2.146849  ...   \n",
       "4              0.792826              16.525686              2.055292  ...   \n",
       "\n",
       "   secondary_cleaner.state.floatbank4_a_air  \\\n",
       "0                                 14.016835   \n",
       "1                                 13.992281   \n",
       "2                                 14.015015   \n",
       "3                                 14.036510   \n",
       "4                                 14.027298   \n",
       "\n",
       "   secondary_cleaner.state.floatbank4_a_level  \\\n",
       "0                                 -502.488007   \n",
       "1                                 -505.503262   \n",
       "2                                 -502.520901   \n",
       "3                                 -500.857308   \n",
       "4                                 -499.838632   \n",
       "\n",
       "   secondary_cleaner.state.floatbank4_b_air  \\\n",
       "0                                 12.099931   \n",
       "1                                 11.950531   \n",
       "2                                 11.912783   \n",
       "3                                 11.999550   \n",
       "4                                 11.953070   \n",
       "\n",
       "   secondary_cleaner.state.floatbank4_b_level  \\\n",
       "0                                 -504.715942   \n",
       "1                                 -501.331529   \n",
       "2                                 -501.133383   \n",
       "3                                 -501.193686   \n",
       "4                                 -501.053894   \n",
       "\n",
       "   secondary_cleaner.state.floatbank5_a_air  \\\n",
       "0                                  9.925633   \n",
       "1                                 10.039245   \n",
       "2                                 10.070913   \n",
       "3                                  9.970366   \n",
       "4                                  9.925709   \n",
       "\n",
       "   secondary_cleaner.state.floatbank5_a_level  \\\n",
       "0                                 -498.310211   \n",
       "1                                 -500.169983   \n",
       "2                                 -500.129135   \n",
       "3                                 -499.201640   \n",
       "4                                 -501.686727   \n",
       "\n",
       "   secondary_cleaner.state.floatbank5_b_air  \\\n",
       "0                                  8.079666   \n",
       "1                                  7.984757   \n",
       "2                                  8.013877   \n",
       "3                                  7.977324   \n",
       "4                                  7.894242   \n",
       "\n",
       "   secondary_cleaner.state.floatbank5_b_level  \\\n",
       "0                                 -500.470978   \n",
       "1                                 -500.582168   \n",
       "2                                 -500.517572   \n",
       "3                                 -500.255908   \n",
       "4                                 -500.356035   \n",
       "\n",
       "   secondary_cleaner.state.floatbank6_a_air  \\\n",
       "0                                 14.151341   \n",
       "1                                 13.998353   \n",
       "2                                 14.028663   \n",
       "3                                 14.005551   \n",
       "4                                 13.996647   \n",
       "\n",
       "   secondary_cleaner.state.floatbank6_a_level  \n",
       "0                                 -605.841980  \n",
       "1                                 -599.787184  \n",
       "2                                 -601.427363  \n",
       "3                                 -599.996129  \n",
       "4                                 -601.496691  \n",
       "\n",
       "[5 rows x 87 columns]"
      ]
     },
     "execution_count": 5,
     "metadata": {},
     "output_type": "execute_result"
    }
   ],
   "source": [
    "#выведем первые 5 строк тренировочой выборки\n",
    "gold_train.head()"
   ]
  },
  {
   "cell_type": "code",
   "execution_count": 6,
   "metadata": {
    "scrolled": true
   },
   "outputs": [
    {
     "name": "stdout",
     "output_type": "stream",
     "text": [
      "<class 'pandas.core.frame.DataFrame'>\n",
      "RangeIndex: 14149 entries, 0 to 14148\n",
      "Data columns (total 87 columns):\n",
      " #   Column                                              Non-Null Count  Dtype  \n",
      "---  ------                                              --------------  -----  \n",
      " 0   date                                                14149 non-null  object \n",
      " 1   final.output.concentrate_ag                         14148 non-null  float64\n",
      " 2   final.output.concentrate_pb                         14148 non-null  float64\n",
      " 3   final.output.concentrate_sol                        13938 non-null  float64\n",
      " 4   final.output.concentrate_au                         14149 non-null  float64\n",
      " 5   final.output.recovery                               14149 non-null  float64\n",
      " 6   final.output.tail_ag                                14149 non-null  float64\n",
      " 7   final.output.tail_pb                                14049 non-null  float64\n",
      " 8   final.output.tail_sol                               14144 non-null  float64\n",
      " 9   final.output.tail_au                                14149 non-null  float64\n",
      " 10  primary_cleaner.input.sulfate                       14129 non-null  float64\n",
      " 11  primary_cleaner.input.depressant                    14117 non-null  float64\n",
      " 12  primary_cleaner.input.feed_size                     14149 non-null  float64\n",
      " 13  primary_cleaner.input.xanthate                      14049 non-null  float64\n",
      " 14  primary_cleaner.output.concentrate_ag               14149 non-null  float64\n",
      " 15  primary_cleaner.output.concentrate_pb               14063 non-null  float64\n",
      " 16  primary_cleaner.output.concentrate_sol              13863 non-null  float64\n",
      " 17  primary_cleaner.output.concentrate_au               14149 non-null  float64\n",
      " 18  primary_cleaner.output.tail_ag                      14148 non-null  float64\n",
      " 19  primary_cleaner.output.tail_pb                      14134 non-null  float64\n",
      " 20  primary_cleaner.output.tail_sol                     14103 non-null  float64\n",
      " 21  primary_cleaner.output.tail_au                      14149 non-null  float64\n",
      " 22  primary_cleaner.state.floatbank8_a_air              14145 non-null  float64\n",
      " 23  primary_cleaner.state.floatbank8_a_level            14148 non-null  float64\n",
      " 24  primary_cleaner.state.floatbank8_b_air              14145 non-null  float64\n",
      " 25  primary_cleaner.state.floatbank8_b_level            14148 non-null  float64\n",
      " 26  primary_cleaner.state.floatbank8_c_air              14147 non-null  float64\n",
      " 27  primary_cleaner.state.floatbank8_c_level            14148 non-null  float64\n",
      " 28  primary_cleaner.state.floatbank8_d_air              14146 non-null  float64\n",
      " 29  primary_cleaner.state.floatbank8_d_level            14148 non-null  float64\n",
      " 30  rougher.calculation.sulfate_to_au_concentrate       14148 non-null  float64\n",
      " 31  rougher.calculation.floatbank10_sulfate_to_au_feed  14148 non-null  float64\n",
      " 32  rougher.calculation.floatbank11_sulfate_to_au_feed  14148 non-null  float64\n",
      " 33  rougher.calculation.au_pb_ratio                     14149 non-null  float64\n",
      " 34  rougher.input.feed_ag                               14149 non-null  float64\n",
      " 35  rougher.input.feed_pb                               14049 non-null  float64\n",
      " 36  rougher.input.feed_rate                             14141 non-null  float64\n",
      " 37  rougher.input.feed_size                             14005 non-null  float64\n",
      " 38  rougher.input.feed_sol                              14071 non-null  float64\n",
      " 39  rougher.input.feed_au                               14149 non-null  float64\n",
      " 40  rougher.input.floatbank10_sulfate                   14120 non-null  float64\n",
      " 41  rougher.input.floatbank10_xanthate                  14141 non-null  float64\n",
      " 42  rougher.input.floatbank11_sulfate                   14113 non-null  float64\n",
      " 43  rougher.input.floatbank11_xanthate                  13721 non-null  float64\n",
      " 44  rougher.output.concentrate_ag                       14149 non-null  float64\n",
      " 45  rougher.output.concentrate_pb                       14149 non-null  float64\n",
      " 46  rougher.output.concentrate_sol                      14127 non-null  float64\n",
      " 47  rougher.output.concentrate_au                       14149 non-null  float64\n",
      " 48  rougher.output.recovery                             14149 non-null  float64\n",
      " 49  rougher.output.tail_ag                              14148 non-null  float64\n",
      " 50  rougher.output.tail_pb                              14149 non-null  float64\n",
      " 51  rougher.output.tail_sol                             14149 non-null  float64\n",
      " 52  rougher.output.tail_au                              14149 non-null  float64\n",
      " 53  rougher.state.floatbank10_a_air                     14148 non-null  float64\n",
      " 54  rougher.state.floatbank10_a_level                   14148 non-null  float64\n",
      " 55  rougher.state.floatbank10_b_air                     14148 non-null  float64\n",
      " 56  rougher.state.floatbank10_b_level                   14148 non-null  float64\n",
      " 57  rougher.state.floatbank10_c_air                     14148 non-null  float64\n",
      " 58  rougher.state.floatbank10_c_level                   14148 non-null  float64\n",
      " 59  rougher.state.floatbank10_d_air                     14149 non-null  float64\n",
      " 60  rougher.state.floatbank10_d_level                   14149 non-null  float64\n",
      " 61  rougher.state.floatbank10_e_air                     13713 non-null  float64\n",
      " 62  rougher.state.floatbank10_e_level                   14149 non-null  float64\n",
      " 63  rougher.state.floatbank10_f_air                     14149 non-null  float64\n",
      " 64  rougher.state.floatbank10_f_level                   14149 non-null  float64\n",
      " 65  secondary_cleaner.output.tail_ag                    14147 non-null  float64\n",
      " 66  secondary_cleaner.output.tail_pb                    14139 non-null  float64\n",
      " 67  secondary_cleaner.output.tail_sol                   12544 non-null  float64\n",
      " 68  secondary_cleaner.output.tail_au                    14149 non-null  float64\n",
      " 69  secondary_cleaner.state.floatbank2_a_air            13932 non-null  float64\n",
      " 70  secondary_cleaner.state.floatbank2_a_level          14148 non-null  float64\n",
      " 71  secondary_cleaner.state.floatbank2_b_air            14128 non-null  float64\n",
      " 72  secondary_cleaner.state.floatbank2_b_level          14148 non-null  float64\n",
      " 73  secondary_cleaner.state.floatbank3_a_air            14145 non-null  float64\n",
      " 74  secondary_cleaner.state.floatbank3_a_level          14148 non-null  float64\n",
      " 75  secondary_cleaner.state.floatbank3_b_air            14148 non-null  float64\n",
      " 76  secondary_cleaner.state.floatbank3_b_level          14148 non-null  float64\n",
      " 77  secondary_cleaner.state.floatbank4_a_air            14143 non-null  float64\n",
      " 78  secondary_cleaner.state.floatbank4_a_level          14148 non-null  float64\n",
      " 79  secondary_cleaner.state.floatbank4_b_air            14148 non-null  float64\n",
      " 80  secondary_cleaner.state.floatbank4_b_level          14148 non-null  float64\n",
      " 81  secondary_cleaner.state.floatbank5_a_air            14148 non-null  float64\n",
      " 82  secondary_cleaner.state.floatbank5_a_level          14148 non-null  float64\n",
      " 83  secondary_cleaner.state.floatbank5_b_air            14148 non-null  float64\n",
      " 84  secondary_cleaner.state.floatbank5_b_level          14148 non-null  float64\n",
      " 85  secondary_cleaner.state.floatbank6_a_air            14147 non-null  float64\n",
      " 86  secondary_cleaner.state.floatbank6_a_level          14148 non-null  float64\n",
      "dtypes: float64(86), object(1)\n",
      "memory usage: 9.4+ MB\n"
     ]
    }
   ],
   "source": [
    "#посмотрим основную информацию о тренировочной выборке\n",
    "gold_train.info() "
   ]
  },
  {
   "cell_type": "markdown",
   "metadata": {},
   "source": [
    "Здесь также мы видим пропущенные значения, в столбце с датой также нужно поменять тип данных."
   ]
  },
  {
   "cell_type": "code",
   "execution_count": 7,
   "metadata": {},
   "outputs": [
    {
     "data": {
      "text/html": [
       "<div>\n",
       "<style scoped>\n",
       "    .dataframe tbody tr th:only-of-type {\n",
       "        vertical-align: middle;\n",
       "    }\n",
       "\n",
       "    .dataframe tbody tr th {\n",
       "        vertical-align: top;\n",
       "    }\n",
       "\n",
       "    .dataframe thead th {\n",
       "        text-align: right;\n",
       "    }\n",
       "</style>\n",
       "<table border=\"1\" class=\"dataframe\">\n",
       "  <thead>\n",
       "    <tr style=\"text-align: right;\">\n",
       "      <th></th>\n",
       "      <th>date</th>\n",
       "      <th>primary_cleaner.input.sulfate</th>\n",
       "      <th>primary_cleaner.input.depressant</th>\n",
       "      <th>primary_cleaner.input.feed_size</th>\n",
       "      <th>primary_cleaner.input.xanthate</th>\n",
       "      <th>primary_cleaner.state.floatbank8_a_air</th>\n",
       "      <th>primary_cleaner.state.floatbank8_a_level</th>\n",
       "      <th>primary_cleaner.state.floatbank8_b_air</th>\n",
       "      <th>primary_cleaner.state.floatbank8_b_level</th>\n",
       "      <th>primary_cleaner.state.floatbank8_c_air</th>\n",
       "      <th>...</th>\n",
       "      <th>secondary_cleaner.state.floatbank4_a_air</th>\n",
       "      <th>secondary_cleaner.state.floatbank4_a_level</th>\n",
       "      <th>secondary_cleaner.state.floatbank4_b_air</th>\n",
       "      <th>secondary_cleaner.state.floatbank4_b_level</th>\n",
       "      <th>secondary_cleaner.state.floatbank5_a_air</th>\n",
       "      <th>secondary_cleaner.state.floatbank5_a_level</th>\n",
       "      <th>secondary_cleaner.state.floatbank5_b_air</th>\n",
       "      <th>secondary_cleaner.state.floatbank5_b_level</th>\n",
       "      <th>secondary_cleaner.state.floatbank6_a_air</th>\n",
       "      <th>secondary_cleaner.state.floatbank6_a_level</th>\n",
       "    </tr>\n",
       "  </thead>\n",
       "  <tbody>\n",
       "    <tr>\n",
       "      <th>0</th>\n",
       "      <td>2016-09-01 00:59:59</td>\n",
       "      <td>210.800909</td>\n",
       "      <td>14.993118</td>\n",
       "      <td>8.080000</td>\n",
       "      <td>1.005021</td>\n",
       "      <td>1398.981301</td>\n",
       "      <td>-500.225577</td>\n",
       "      <td>1399.144926</td>\n",
       "      <td>-499.919735</td>\n",
       "      <td>1400.102998</td>\n",
       "      <td>...</td>\n",
       "      <td>12.023554</td>\n",
       "      <td>-497.795834</td>\n",
       "      <td>8.016656</td>\n",
       "      <td>-501.289139</td>\n",
       "      <td>7.946562</td>\n",
       "      <td>-432.317850</td>\n",
       "      <td>4.872511</td>\n",
       "      <td>-500.037437</td>\n",
       "      <td>26.705889</td>\n",
       "      <td>-499.709414</td>\n",
       "    </tr>\n",
       "    <tr>\n",
       "      <th>1</th>\n",
       "      <td>2016-09-01 01:59:59</td>\n",
       "      <td>215.392455</td>\n",
       "      <td>14.987471</td>\n",
       "      <td>8.080000</td>\n",
       "      <td>0.990469</td>\n",
       "      <td>1398.777912</td>\n",
       "      <td>-500.057435</td>\n",
       "      <td>1398.055362</td>\n",
       "      <td>-499.778182</td>\n",
       "      <td>1396.151033</td>\n",
       "      <td>...</td>\n",
       "      <td>12.058140</td>\n",
       "      <td>-498.695773</td>\n",
       "      <td>8.130979</td>\n",
       "      <td>-499.634209</td>\n",
       "      <td>7.958270</td>\n",
       "      <td>-525.839648</td>\n",
       "      <td>4.878850</td>\n",
       "      <td>-500.162375</td>\n",
       "      <td>25.019940</td>\n",
       "      <td>-499.819438</td>\n",
       "    </tr>\n",
       "    <tr>\n",
       "      <th>2</th>\n",
       "      <td>2016-09-01 02:59:59</td>\n",
       "      <td>215.259946</td>\n",
       "      <td>12.884934</td>\n",
       "      <td>7.786667</td>\n",
       "      <td>0.996043</td>\n",
       "      <td>1398.493666</td>\n",
       "      <td>-500.868360</td>\n",
       "      <td>1398.860436</td>\n",
       "      <td>-499.764529</td>\n",
       "      <td>1398.075709</td>\n",
       "      <td>...</td>\n",
       "      <td>11.962366</td>\n",
       "      <td>-498.767484</td>\n",
       "      <td>8.096893</td>\n",
       "      <td>-500.827423</td>\n",
       "      <td>8.071056</td>\n",
       "      <td>-500.801673</td>\n",
       "      <td>4.905125</td>\n",
       "      <td>-499.828510</td>\n",
       "      <td>24.994862</td>\n",
       "      <td>-500.622559</td>\n",
       "    </tr>\n",
       "    <tr>\n",
       "      <th>3</th>\n",
       "      <td>2016-09-01 03:59:59</td>\n",
       "      <td>215.336236</td>\n",
       "      <td>12.006805</td>\n",
       "      <td>7.640000</td>\n",
       "      <td>0.863514</td>\n",
       "      <td>1399.618111</td>\n",
       "      <td>-498.863574</td>\n",
       "      <td>1397.440120</td>\n",
       "      <td>-499.211024</td>\n",
       "      <td>1400.129303</td>\n",
       "      <td>...</td>\n",
       "      <td>12.033091</td>\n",
       "      <td>-498.350935</td>\n",
       "      <td>8.074946</td>\n",
       "      <td>-499.474407</td>\n",
       "      <td>7.897085</td>\n",
       "      <td>-500.868509</td>\n",
       "      <td>4.931400</td>\n",
       "      <td>-499.963623</td>\n",
       "      <td>24.948919</td>\n",
       "      <td>-498.709987</td>\n",
       "    </tr>\n",
       "    <tr>\n",
       "      <th>4</th>\n",
       "      <td>2016-09-01 04:59:59</td>\n",
       "      <td>199.099327</td>\n",
       "      <td>10.682530</td>\n",
       "      <td>7.530000</td>\n",
       "      <td>0.805575</td>\n",
       "      <td>1401.268123</td>\n",
       "      <td>-500.808305</td>\n",
       "      <td>1398.128818</td>\n",
       "      <td>-499.504543</td>\n",
       "      <td>1402.172226</td>\n",
       "      <td>...</td>\n",
       "      <td>12.025367</td>\n",
       "      <td>-500.786497</td>\n",
       "      <td>8.054678</td>\n",
       "      <td>-500.397500</td>\n",
       "      <td>8.107890</td>\n",
       "      <td>-509.526725</td>\n",
       "      <td>4.957674</td>\n",
       "      <td>-500.360026</td>\n",
       "      <td>25.003331</td>\n",
       "      <td>-500.856333</td>\n",
       "    </tr>\n",
       "  </tbody>\n",
       "</table>\n",
       "<p>5 rows × 53 columns</p>\n",
       "</div>"
      ],
      "text/plain": [
       "                  date  primary_cleaner.input.sulfate  \\\n",
       "0  2016-09-01 00:59:59                     210.800909   \n",
       "1  2016-09-01 01:59:59                     215.392455   \n",
       "2  2016-09-01 02:59:59                     215.259946   \n",
       "3  2016-09-01 03:59:59                     215.336236   \n",
       "4  2016-09-01 04:59:59                     199.099327   \n",
       "\n",
       "   primary_cleaner.input.depressant  primary_cleaner.input.feed_size  \\\n",
       "0                         14.993118                         8.080000   \n",
       "1                         14.987471                         8.080000   \n",
       "2                         12.884934                         7.786667   \n",
       "3                         12.006805                         7.640000   \n",
       "4                         10.682530                         7.530000   \n",
       "\n",
       "   primary_cleaner.input.xanthate  primary_cleaner.state.floatbank8_a_air  \\\n",
       "0                        1.005021                             1398.981301   \n",
       "1                        0.990469                             1398.777912   \n",
       "2                        0.996043                             1398.493666   \n",
       "3                        0.863514                             1399.618111   \n",
       "4                        0.805575                             1401.268123   \n",
       "\n",
       "   primary_cleaner.state.floatbank8_a_level  \\\n",
       "0                               -500.225577   \n",
       "1                               -500.057435   \n",
       "2                               -500.868360   \n",
       "3                               -498.863574   \n",
       "4                               -500.808305   \n",
       "\n",
       "   primary_cleaner.state.floatbank8_b_air  \\\n",
       "0                             1399.144926   \n",
       "1                             1398.055362   \n",
       "2                             1398.860436   \n",
       "3                             1397.440120   \n",
       "4                             1398.128818   \n",
       "\n",
       "   primary_cleaner.state.floatbank8_b_level  \\\n",
       "0                               -499.919735   \n",
       "1                               -499.778182   \n",
       "2                               -499.764529   \n",
       "3                               -499.211024   \n",
       "4                               -499.504543   \n",
       "\n",
       "   primary_cleaner.state.floatbank8_c_air  ...  \\\n",
       "0                             1400.102998  ...   \n",
       "1                             1396.151033  ...   \n",
       "2                             1398.075709  ...   \n",
       "3                             1400.129303  ...   \n",
       "4                             1402.172226  ...   \n",
       "\n",
       "   secondary_cleaner.state.floatbank4_a_air  \\\n",
       "0                                 12.023554   \n",
       "1                                 12.058140   \n",
       "2                                 11.962366   \n",
       "3                                 12.033091   \n",
       "4                                 12.025367   \n",
       "\n",
       "   secondary_cleaner.state.floatbank4_a_level  \\\n",
       "0                                 -497.795834   \n",
       "1                                 -498.695773   \n",
       "2                                 -498.767484   \n",
       "3                                 -498.350935   \n",
       "4                                 -500.786497   \n",
       "\n",
       "   secondary_cleaner.state.floatbank4_b_air  \\\n",
       "0                                  8.016656   \n",
       "1                                  8.130979   \n",
       "2                                  8.096893   \n",
       "3                                  8.074946   \n",
       "4                                  8.054678   \n",
       "\n",
       "   secondary_cleaner.state.floatbank4_b_level  \\\n",
       "0                                 -501.289139   \n",
       "1                                 -499.634209   \n",
       "2                                 -500.827423   \n",
       "3                                 -499.474407   \n",
       "4                                 -500.397500   \n",
       "\n",
       "   secondary_cleaner.state.floatbank5_a_air  \\\n",
       "0                                  7.946562   \n",
       "1                                  7.958270   \n",
       "2                                  8.071056   \n",
       "3                                  7.897085   \n",
       "4                                  8.107890   \n",
       "\n",
       "   secondary_cleaner.state.floatbank5_a_level  \\\n",
       "0                                 -432.317850   \n",
       "1                                 -525.839648   \n",
       "2                                 -500.801673   \n",
       "3                                 -500.868509   \n",
       "4                                 -509.526725   \n",
       "\n",
       "   secondary_cleaner.state.floatbank5_b_air  \\\n",
       "0                                  4.872511   \n",
       "1                                  4.878850   \n",
       "2                                  4.905125   \n",
       "3                                  4.931400   \n",
       "4                                  4.957674   \n",
       "\n",
       "   secondary_cleaner.state.floatbank5_b_level  \\\n",
       "0                                 -500.037437   \n",
       "1                                 -500.162375   \n",
       "2                                 -499.828510   \n",
       "3                                 -499.963623   \n",
       "4                                 -500.360026   \n",
       "\n",
       "   secondary_cleaner.state.floatbank6_a_air  \\\n",
       "0                                 26.705889   \n",
       "1                                 25.019940   \n",
       "2                                 24.994862   \n",
       "3                                 24.948919   \n",
       "4                                 25.003331   \n",
       "\n",
       "   secondary_cleaner.state.floatbank6_a_level  \n",
       "0                                 -499.709414  \n",
       "1                                 -499.819438  \n",
       "2                                 -500.622559  \n",
       "3                                 -498.709987  \n",
       "4                                 -500.856333  \n",
       "\n",
       "[5 rows x 53 columns]"
      ]
     },
     "execution_count": 7,
     "metadata": {},
     "output_type": "execute_result"
    }
   ],
   "source": [
    "#выведем первые 5 строк тестовой выборки\n",
    "gold_test.head()"
   ]
  },
  {
   "cell_type": "code",
   "execution_count": 8,
   "metadata": {},
   "outputs": [
    {
     "name": "stdout",
     "output_type": "stream",
     "text": [
      "<class 'pandas.core.frame.DataFrame'>\n",
      "RangeIndex: 5290 entries, 0 to 5289\n",
      "Data columns (total 53 columns):\n",
      " #   Column                                      Non-Null Count  Dtype  \n",
      "---  ------                                      --------------  -----  \n",
      " 0   date                                        5290 non-null   object \n",
      " 1   primary_cleaner.input.sulfate               5286 non-null   float64\n",
      " 2   primary_cleaner.input.depressant            5285 non-null   float64\n",
      " 3   primary_cleaner.input.feed_size             5290 non-null   float64\n",
      " 4   primary_cleaner.input.xanthate              5286 non-null   float64\n",
      " 5   primary_cleaner.state.floatbank8_a_air      5290 non-null   float64\n",
      " 6   primary_cleaner.state.floatbank8_a_level    5290 non-null   float64\n",
      " 7   primary_cleaner.state.floatbank8_b_air      5290 non-null   float64\n",
      " 8   primary_cleaner.state.floatbank8_b_level    5290 non-null   float64\n",
      " 9   primary_cleaner.state.floatbank8_c_air      5290 non-null   float64\n",
      " 10  primary_cleaner.state.floatbank8_c_level    5290 non-null   float64\n",
      " 11  primary_cleaner.state.floatbank8_d_air      5290 non-null   float64\n",
      " 12  primary_cleaner.state.floatbank8_d_level    5290 non-null   float64\n",
      " 13  rougher.input.feed_ag                       5290 non-null   float64\n",
      " 14  rougher.input.feed_pb                       5290 non-null   float64\n",
      " 15  rougher.input.feed_rate                     5287 non-null   float64\n",
      " 16  rougher.input.feed_size                     5289 non-null   float64\n",
      " 17  rougher.input.feed_sol                      5269 non-null   float64\n",
      " 18  rougher.input.feed_au                       5290 non-null   float64\n",
      " 19  rougher.input.floatbank10_sulfate           5285 non-null   float64\n",
      " 20  rougher.input.floatbank10_xanthate          5290 non-null   float64\n",
      " 21  rougher.input.floatbank11_sulfate           5282 non-null   float64\n",
      " 22  rougher.input.floatbank11_xanthate          5265 non-null   float64\n",
      " 23  rougher.state.floatbank10_a_air             5290 non-null   float64\n",
      " 24  rougher.state.floatbank10_a_level           5290 non-null   float64\n",
      " 25  rougher.state.floatbank10_b_air             5290 non-null   float64\n",
      " 26  rougher.state.floatbank10_b_level           5290 non-null   float64\n",
      " 27  rougher.state.floatbank10_c_air             5290 non-null   float64\n",
      " 28  rougher.state.floatbank10_c_level           5290 non-null   float64\n",
      " 29  rougher.state.floatbank10_d_air             5290 non-null   float64\n",
      " 30  rougher.state.floatbank10_d_level           5290 non-null   float64\n",
      " 31  rougher.state.floatbank10_e_air             5290 non-null   float64\n",
      " 32  rougher.state.floatbank10_e_level           5290 non-null   float64\n",
      " 33  rougher.state.floatbank10_f_air             5290 non-null   float64\n",
      " 34  rougher.state.floatbank10_f_level           5290 non-null   float64\n",
      " 35  secondary_cleaner.state.floatbank2_a_air    5287 non-null   float64\n",
      " 36  secondary_cleaner.state.floatbank2_a_level  5290 non-null   float64\n",
      " 37  secondary_cleaner.state.floatbank2_b_air    5288 non-null   float64\n",
      " 38  secondary_cleaner.state.floatbank2_b_level  5290 non-null   float64\n",
      " 39  secondary_cleaner.state.floatbank3_a_air    5281 non-null   float64\n",
      " 40  secondary_cleaner.state.floatbank3_a_level  5290 non-null   float64\n",
      " 41  secondary_cleaner.state.floatbank3_b_air    5290 non-null   float64\n",
      " 42  secondary_cleaner.state.floatbank3_b_level  5290 non-null   float64\n",
      " 43  secondary_cleaner.state.floatbank4_a_air    5290 non-null   float64\n",
      " 44  secondary_cleaner.state.floatbank4_a_level  5290 non-null   float64\n",
      " 45  secondary_cleaner.state.floatbank4_b_air    5290 non-null   float64\n",
      " 46  secondary_cleaner.state.floatbank4_b_level  5290 non-null   float64\n",
      " 47  secondary_cleaner.state.floatbank5_a_air    5290 non-null   float64\n",
      " 48  secondary_cleaner.state.floatbank5_a_level  5290 non-null   float64\n",
      " 49  secondary_cleaner.state.floatbank5_b_air    5290 non-null   float64\n",
      " 50  secondary_cleaner.state.floatbank5_b_level  5290 non-null   float64\n",
      " 51  secondary_cleaner.state.floatbank6_a_air    5290 non-null   float64\n",
      " 52  secondary_cleaner.state.floatbank6_a_level  5290 non-null   float64\n",
      "dtypes: float64(52), object(1)\n",
      "memory usage: 2.1+ MB\n"
     ]
    }
   ],
   "source": [
    "#посмотрим основную информацию о тестовой выборке\n",
    "gold_test.info()"
   ]
  },
  {
   "cell_type": "markdown",
   "metadata": {},
   "source": [
    "Мы видим, что столбцов здесь меньше. Некоторые параметры недоступны, потому что замеряются и/или рассчитываются значительно позже. Из-за этого в тестовой выборке отсутствуют некоторые признаки, в том числе два целевых признака (rougher.output.recovery и final.output.recovery). Также надо преобразовать столбец с датой."
   ]
  },
  {
   "cell_type": "markdown",
   "metadata": {},
   "source": [
    "### Проверим расчет эффективности обогащения. "
   ]
  },
  {
   "cell_type": "markdown",
   "metadata": {},
   "source": [
    "Вычислим эффективность обогащения  на обучающей выборке для признака rougher.output.recovery: "
   ]
  },
  {
   "cell_type": "code",
   "execution_count": 9,
   "metadata": {},
   "outputs": [],
   "source": [
    "#напишем функицю для расчета эффективности\n",
    "def recovery (c,f,t):\n",
    "    res = ((c*(f-t))/(f*(c-t))*100)\n",
    "    return pd.Series(res)"
   ]
  },
  {
   "cell_type": "code",
   "execution_count": 10,
   "metadata": {},
   "outputs": [],
   "source": [
    "rec = recovery(gold_train['rougher.output.concentrate_au'],\\\n",
    "         gold_train['rougher.input.feed_au'], gold_train['rougher.output.tail_au'])"
   ]
  },
  {
   "cell_type": "markdown",
   "metadata": {},
   "source": [
    "Найдем MAE (средняя абсолютная ошибка) между нашими расчётами и значением признака rougher.output.recovery:"
   ]
  },
  {
   "cell_type": "code",
   "execution_count": 11,
   "metadata": {},
   "outputs": [
    {
     "data": {
      "text/plain": [
       "0.0"
      ]
     },
     "execution_count": 11,
     "metadata": {},
     "output_type": "execute_result"
    }
   ],
   "source": [
    "mae = round(mean_absolute_error(gold_train['rougher.output.recovery'], rec), 3)\n",
    "mae"
   ]
  },
  {
   "cell_type": "markdown",
   "metadata": {},
   "source": [
    "По результатам, мы видим, что эффективность обогащения расчитана правильно."
   ]
  },
  {
   "cell_type": "markdown",
   "metadata": {},
   "source": [
    "### Проанализируем признаки, недоступные в тестовой выборке."
   ]
  },
  {
   "cell_type": "code",
   "execution_count": 12,
   "metadata": {},
   "outputs": [
    {
     "data": {
      "text/plain": [
       "{'final.output.concentrate_ag',\n",
       " 'final.output.concentrate_au',\n",
       " 'final.output.concentrate_pb',\n",
       " 'final.output.concentrate_sol',\n",
       " 'final.output.recovery',\n",
       " 'final.output.tail_ag',\n",
       " 'final.output.tail_au',\n",
       " 'final.output.tail_pb',\n",
       " 'final.output.tail_sol',\n",
       " 'primary_cleaner.output.concentrate_ag',\n",
       " 'primary_cleaner.output.concentrate_au',\n",
       " 'primary_cleaner.output.concentrate_pb',\n",
       " 'primary_cleaner.output.concentrate_sol',\n",
       " 'primary_cleaner.output.tail_ag',\n",
       " 'primary_cleaner.output.tail_au',\n",
       " 'primary_cleaner.output.tail_pb',\n",
       " 'primary_cleaner.output.tail_sol',\n",
       " 'rougher.calculation.au_pb_ratio',\n",
       " 'rougher.calculation.floatbank10_sulfate_to_au_feed',\n",
       " 'rougher.calculation.floatbank11_sulfate_to_au_feed',\n",
       " 'rougher.calculation.sulfate_to_au_concentrate',\n",
       " 'rougher.output.concentrate_ag',\n",
       " 'rougher.output.concentrate_au',\n",
       " 'rougher.output.concentrate_pb',\n",
       " 'rougher.output.concentrate_sol',\n",
       " 'rougher.output.recovery',\n",
       " 'rougher.output.tail_ag',\n",
       " 'rougher.output.tail_au',\n",
       " 'rougher.output.tail_pb',\n",
       " 'rougher.output.tail_sol',\n",
       " 'secondary_cleaner.output.tail_ag',\n",
       " 'secondary_cleaner.output.tail_au',\n",
       " 'secondary_cleaner.output.tail_pb',\n",
       " 'secondary_cleaner.output.tail_sol'}"
      ]
     },
     "execution_count": 12,
     "metadata": {},
     "output_type": "execute_result"
    }
   ],
   "source": [
    "#посмотрим на столбцы, отсутствующие в тестовой выборке\n",
    "difference_in_columns = set(gold_train).symmetric_difference(set(gold_test))\n",
    "difference_in_columns"
   ]
  },
  {
   "cell_type": "markdown",
   "metadata": {},
   "source": [
    "Отсутствуют:\n",
    "- 2 целевых признака rougher.output.recovery и final.output.recovery \n",
    "- параметры продуктов в отвальных хвостах после всех этапов отчистки(rougher.output.tail, primary_cleaner.output.tail, secondary_cleaner.output.tail) \n",
    "- концентрация продуктов после всех этапов отчистки (rougher.output.concentrate, primary_cleaner.output.concentrate, final.output.concentrate)\n",
    "- столбцы с расчетами реагентов на флотационной установке (rougher.calculation.floatbank) и расчетами на этапе флотации (rougher.calculation)."
   ]
  },
  {
   "cell_type": "code",
   "execution_count": 13,
   "metadata": {},
   "outputs": [],
   "source": [
    "#добавим целевые признаки в тестовую выборку\n",
    "gold_test = gold_test.merge\\\n",
    "(gold_full[['date','rougher.output.recovery', 'final.output.recovery' ]], on='date', how='left')"
   ]
  },
  {
   "cell_type": "markdown",
   "metadata": {},
   "source": [
    "### Предобработка данных."
   ]
  },
  {
   "cell_type": "markdown",
   "metadata": {},
   "source": [
    "Преобразуем столбец с датой во всех датасетах на datetime:"
   ]
  },
  {
   "cell_type": "code",
   "execution_count": 14,
   "metadata": {},
   "outputs": [],
   "source": [
    "gold_full['date'] = \\\n",
    "pd.to_datetime(gold_full['date'], format='%Y-%m-%dZ%H:%M:%S', infer_datetime_format=True)"
   ]
  },
  {
   "cell_type": "code",
   "execution_count": 15,
   "metadata": {},
   "outputs": [],
   "source": [
    "gold_train['date'] = \\\n",
    "pd.to_datetime(gold_train['date'], format='%Y-%m-%dZ%H:%M:%S', infer_datetime_format=True)"
   ]
  },
  {
   "cell_type": "code",
   "execution_count": 16,
   "metadata": {},
   "outputs": [],
   "source": [
    "gold_test['date'] = \\\n",
    "pd.to_datetime(gold_test['date'], format='%Y-%m-%dZ%H:%M:%S', infer_datetime_format=True)"
   ]
  },
  {
   "cell_type": "code",
   "execution_count": 17,
   "metadata": {},
   "outputs": [
    {
     "data": {
      "text/plain": [
       "(date    datetime64[ns]\n",
       " dtype: object,\n",
       " date    datetime64[ns]\n",
       " dtype: object,\n",
       " date    datetime64[ns]\n",
       " dtype: object)"
      ]
     },
     "execution_count": 17,
     "metadata": {},
     "output_type": "execute_result"
    }
   ],
   "source": [
    "#проверим изменения:\n",
    "gold_full.dtypes.head(1), gold_train.dtypes.head(1), gold_test.dtypes.head(1) "
   ]
  },
  {
   "cell_type": "markdown",
   "metadata": {},
   "source": [
    "Заполним пропуски. Данные индексируются датой и временем получения информации (date). Соседние по времени параметры часто похожи, поэтому заполним пропущенное значение предыдущим непропущенным значением:"
   ]
  },
  {
   "cell_type": "code",
   "execution_count": 18,
   "metadata": {},
   "outputs": [],
   "source": [
    "gold_full.fillna(method='ffill', inplace=True)"
   ]
  },
  {
   "cell_type": "code",
   "execution_count": 19,
   "metadata": {},
   "outputs": [],
   "source": [
    "gold_train.fillna(method ='ffill', inplace=True)"
   ]
  },
  {
   "cell_type": "code",
   "execution_count": 20,
   "metadata": {},
   "outputs": [],
   "source": [
    "gold_test.fillna(method ='ffill', inplace=True)"
   ]
  },
  {
   "cell_type": "code",
   "execution_count": 21,
   "metadata": {},
   "outputs": [
    {
     "data": {
      "text/plain": [
       "(date                                          0\n",
       " final.output.concentrate_ag                   0\n",
       " final.output.concentrate_pb                   0\n",
       " final.output.concentrate_sol                  0\n",
       " final.output.concentrate_au                   0\n",
       "                                              ..\n",
       " secondary_cleaner.state.floatbank5_a_level    0\n",
       " secondary_cleaner.state.floatbank5_b_air      0\n",
       " secondary_cleaner.state.floatbank5_b_level    0\n",
       " secondary_cleaner.state.floatbank6_a_air      0\n",
       " secondary_cleaner.state.floatbank6_a_level    0\n",
       " Length: 87, dtype: int64,\n",
       " date                                          0\n",
       " final.output.concentrate_ag                   0\n",
       " final.output.concentrate_pb                   0\n",
       " final.output.concentrate_sol                  0\n",
       " final.output.concentrate_au                   0\n",
       "                                              ..\n",
       " secondary_cleaner.state.floatbank5_a_level    0\n",
       " secondary_cleaner.state.floatbank5_b_air      0\n",
       " secondary_cleaner.state.floatbank5_b_level    0\n",
       " secondary_cleaner.state.floatbank6_a_air      0\n",
       " secondary_cleaner.state.floatbank6_a_level    0\n",
       " Length: 87, dtype: int64,\n",
       " date                                          0\n",
       " primary_cleaner.input.sulfate                 0\n",
       " primary_cleaner.input.depressant              0\n",
       " primary_cleaner.input.feed_size               0\n",
       " primary_cleaner.input.xanthate                0\n",
       " primary_cleaner.state.floatbank8_a_air        0\n",
       " primary_cleaner.state.floatbank8_a_level      0\n",
       " primary_cleaner.state.floatbank8_b_air        0\n",
       " primary_cleaner.state.floatbank8_b_level      0\n",
       " primary_cleaner.state.floatbank8_c_air        0\n",
       " primary_cleaner.state.floatbank8_c_level      0\n",
       " primary_cleaner.state.floatbank8_d_air        0\n",
       " primary_cleaner.state.floatbank8_d_level      0\n",
       " rougher.input.feed_ag                         0\n",
       " rougher.input.feed_pb                         0\n",
       " rougher.input.feed_rate                       0\n",
       " rougher.input.feed_size                       0\n",
       " rougher.input.feed_sol                        0\n",
       " rougher.input.feed_au                         0\n",
       " rougher.input.floatbank10_sulfate             0\n",
       " rougher.input.floatbank10_xanthate            0\n",
       " rougher.input.floatbank11_sulfate             0\n",
       " rougher.input.floatbank11_xanthate            0\n",
       " rougher.state.floatbank10_a_air               0\n",
       " rougher.state.floatbank10_a_level             0\n",
       " rougher.state.floatbank10_b_air               0\n",
       " rougher.state.floatbank10_b_level             0\n",
       " rougher.state.floatbank10_c_air               0\n",
       " rougher.state.floatbank10_c_level             0\n",
       " rougher.state.floatbank10_d_air               0\n",
       " rougher.state.floatbank10_d_level             0\n",
       " rougher.state.floatbank10_e_air               0\n",
       " rougher.state.floatbank10_e_level             0\n",
       " rougher.state.floatbank10_f_air               0\n",
       " rougher.state.floatbank10_f_level             0\n",
       " secondary_cleaner.state.floatbank2_a_air      0\n",
       " secondary_cleaner.state.floatbank2_a_level    0\n",
       " secondary_cleaner.state.floatbank2_b_air      0\n",
       " secondary_cleaner.state.floatbank2_b_level    0\n",
       " secondary_cleaner.state.floatbank3_a_air      0\n",
       " secondary_cleaner.state.floatbank3_a_level    0\n",
       " secondary_cleaner.state.floatbank3_b_air      0\n",
       " secondary_cleaner.state.floatbank3_b_level    0\n",
       " secondary_cleaner.state.floatbank4_a_air      0\n",
       " secondary_cleaner.state.floatbank4_a_level    0\n",
       " secondary_cleaner.state.floatbank4_b_air      0\n",
       " secondary_cleaner.state.floatbank4_b_level    0\n",
       " secondary_cleaner.state.floatbank5_a_air      0\n",
       " secondary_cleaner.state.floatbank5_a_level    0\n",
       " secondary_cleaner.state.floatbank5_b_air      0\n",
       " secondary_cleaner.state.floatbank5_b_level    0\n",
       " secondary_cleaner.state.floatbank6_a_air      0\n",
       " secondary_cleaner.state.floatbank6_a_level    0\n",
       " rougher.output.recovery                       0\n",
       " final.output.recovery                         0\n",
       " dtype: int64)"
      ]
     },
     "execution_count": 21,
     "metadata": {},
     "output_type": "execute_result"
    }
   ],
   "source": [
    "#проверим налисие пропусков\n",
    "gold_full.isna().sum(), gold_train.isna().sum(), gold_test.isna().sum()"
   ]
  },
  {
   "cell_type": "markdown",
   "metadata": {},
   "source": [
    "***Вывод:***\n",
    "- мы ознакомились с представленными датасетами, выявили пропуска и заполнили их предыдущим значением\n",
    "- изменили тип данных в столбце datetime\n",
    "- проверили с помощью метрики MAE правильность расчета rougher.output.recovery и не выявили ошибки\n",
    "- оценили разницу в признаках между тестовой и тренировчоной выборках"
   ]
  },
  {
   "cell_type": "markdown",
   "metadata": {},
   "source": [
    "## Анализ данных"
   ]
  },
  {
   "cell_type": "markdown",
   "metadata": {},
   "source": [
    "### Рассмотрим изменение концентрации металлов (Au, Ag, Pb) на различных этапах очистки."
   ]
  },
  {
   "cell_type": "code",
   "execution_count": 22,
   "metadata": {},
   "outputs": [],
   "source": [
    "#напишем функцию для гисторграммы\n",
    "bins = 50\n",
    "metal = ['Au', 'Ag', 'Pb']\n",
    "def hist(rougher_ouput,primary,final,metal):\n",
    "    plt.figure(figsize=(10,5))\n",
    "    plt.hist(rougher_ouput, bins, alpha=0.5, label='флотация')\n",
    "    plt.hist(primary, bins, alpha=0.5, label='первичная очистка')\n",
    "    plt.hist(final, bins, alpha=0.5, label='финальные характиристики')        \n",
    "    plt.legend()\n",
    "    plt.grid()\n",
    "    plt.title(f\"Концентрация {metal} на различных этапах очистки\")\n",
    "    plt.ylabel('Количество') \n",
    "    plt.xlabel('Концентрация') \n",
    "    plt.show()"
   ]
  },
  {
   "cell_type": "code",
   "execution_count": 23,
   "metadata": {},
   "outputs": [
    {
     "data": {
      "image/png": "[encoded data removed]",
      "text/plain": [
       "<Figure size 720x360 with 1 Axes>"
      ]
     },
     "metadata": {
      "needs_background": "light"
     },
     "output_type": "display_data"
    }
   ],
   "source": [
    "hist(gold_full['rougher.output.concentrate_au'], gold_full['primary_cleaner.output.concentrate_au'],\\\n",
    "     gold_full['final.output.concentrate_au'], metal[0])"
   ]
  },
  {
   "cell_type": "markdown",
   "metadata": {},
   "source": [
    "Мы видим, что самая большая коцентрация золота получается после всех стадий очистки. Так же есть выбросы в виде нулей на всех этапах."
   ]
  },
  {
   "cell_type": "code",
   "execution_count": 24,
   "metadata": {},
   "outputs": [
    {
     "data": {
      "image/png": "[encoded data removed]",
      "text/plain": [
       "<Figure size 720x360 with 1 Axes>"
      ]
     },
     "metadata": {
      "needs_background": "light"
     },
     "output_type": "display_data"
    }
   ],
   "source": [
    "hist(gold_full['rougher.output.concentrate_ag'], gold_full['primary_cleaner.output.concentrate_ag'],\\\n",
    "     gold_full['final.output.concentrate_ag'], metal[1] )"
   ]
  },
  {
   "cell_type": "markdown",
   "metadata": {},
   "source": [
    "Самая большая концентрация серебра получается на этапе флотациии и уменьшается в финальной стадии. Также есть нулевые значения."
   ]
  },
  {
   "cell_type": "code",
   "execution_count": 25,
   "metadata": {},
   "outputs": [
    {
     "data": {
      "image/png": "[encoded data removed]",
      "text/plain": [
       "<Figure size 720x360 with 1 Axes>"
      ]
     },
     "metadata": {
      "needs_background": "light"
     },
     "output_type": "display_data"
    }
   ],
   "source": [
    "hist(gold_full['rougher.output.concentrate_pb'], gold_full['primary_cleaner.output.concentrate_pb'], \\\n",
    "     gold_full['final.output.concentrate_pb'], metal[2] )"
   ]
  },
  {
   "cell_type": "markdown",
   "metadata": {},
   "source": [
    "Концентрация свинца больше всего после первичой и вторичной очистки и чуть меньше на этапе флотации. Также есть выбросы  с нулевыми значениями."
   ]
  },
  {
   "cell_type": "markdown",
   "metadata": {},
   "source": [
    "### Распределение размеров гранул сырья на обучающей и тестовой выборках."
   ]
  },
  {
   "cell_type": "code",
   "execution_count": 26,
   "metadata": {},
   "outputs": [
    {
     "data": {
      "image/png": "[encoded data removed]",
      "text/plain": [
       "<Figure size 720x360 with 1 Axes>"
      ]
     },
     "metadata": {
      "needs_background": "light"
     },
     "output_type": "display_data"
    }
   ],
   "source": [
    "plt.figure(figsize=(10,5))\n",
    "sns.histplot\\\n",
    "(data=gold_train, x=\"rougher.input.feed_size\", color=\"skyblue\", label=\"Обучающая выборка\", kde=True)\n",
    "sns.histplot\\\n",
    "(data=gold_test, x=\"rougher.input.feed_size\", color=\"red\", label=\"Тестовая выборка\", kde=True)\n",
    "plt.grid()\n",
    "plt.xlim(5,150)\n",
    "plt.title(\"Распределение размеров гранул сырья на этапе флотации\")\n",
    "plt.ylabel('Количество') \n",
    "plt.xlabel('Размер гранул') \n",
    "plt.legend() \n",
    "plt.show()"
   ]
  },
  {
   "cell_type": "markdown",
   "metadata": {},
   "source": [
    "Сильного отклонения в распеределнии нет, значения размеров гранул почти в одном диапазоне."
   ]
  },
  {
   "cell_type": "code",
   "execution_count": 27,
   "metadata": {},
   "outputs": [
    {
     "data": {
      "image/png": "[encoded data removed]",
      "text/plain": [
       "<Figure size 720x360 with 1 Axes>"
      ]
     },
     "metadata": {
      "needs_background": "light"
     },
     "output_type": "display_data"
    }
   ],
   "source": [
    "plt.figure(figsize=(10,5))\n",
    "sns.histplot\\\n",
    "(data=gold_train, x=\"primary_cleaner.input.feed_size\", color=\"skyblue\", label=\"Обучающая выборка\", kde=True)\n",
    "sns.histplot\\\n",
    "(data=gold_test, x=\"primary_cleaner.input.feed_size\", color=\"red\", label=\"Тестовая выборка\", kde=True)\n",
    "plt.grid()\n",
    "plt.xlim(4,12)\n",
    "plt.title(\"Распределение размеров гранул сырья после первичной очистки\")\n",
    "plt.ylabel('Количество') \n",
    "plt.xlabel('Размер гранул') \n",
    "plt.legend() \n",
    "plt.show()"
   ]
  },
  {
   "cell_type": "markdown",
   "metadata": {},
   "source": [
    "Распределение данных близко, значения в одном диапазоне. "
   ]
  },
  {
   "cell_type": "markdown",
   "metadata": {},
   "source": [
    "### Исследуем суммарную концентрацию всех веществ на разных стадиях: в сырье, в черновом и финальном концентратах. "
   ]
  },
  {
   "cell_type": "code",
   "execution_count": 28,
   "metadata": {},
   "outputs": [],
   "source": [
    "#напишем функцию для подсчета суммы\n",
    "def sum(au,ag,sol,pb):\n",
    "    res = au+ag+sol+pb\n",
    "    return res"
   ]
  },
  {
   "cell_type": "code",
   "execution_count": 29,
   "metadata": {},
   "outputs": [],
   "source": [
    "#в сырье\n",
    "gold_train['sum_conc_rougher_input']= sum(gold_train['rougher.input.feed_au'],\\\n",
    "                                          gold_train['rougher.input.feed_ag'], \\\n",
    "                                          gold_train['rougher.input.feed_sol'],\\\n",
    "                                          gold_train['rougher.input.feed_pb'])\n",
    "#в черновом концентрате\n",
    "gold_train['sum_conc_rougher_output'] = sum(gold_train['rougher.output.concentrate_au'],\\\n",
    "                                            gold_train['rougher.output.concentrate_ag'],\\\n",
    "                                            gold_train['rougher.output.concentrate_sol'],\\\n",
    "                                            gold_train['rougher.output.concentrate_pb'])\n",
    "#в финальном концентрате\n",
    "gold_train['sum_conc_final_output'] = sum(gold_train['final.output.concentrate_au'],\\\n",
    "                                          gold_train['final.output.concentrate_ag'],\\\n",
    "                                          gold_train['final.output.concentrate_sol'], \\\n",
    "                                          gold_train['final.output.concentrate_pb'])"
   ]
  },
  {
   "cell_type": "code",
   "execution_count": 30,
   "metadata": {},
   "outputs": [
    {
     "data": {
      "image/png": "[encoded data removed]",
      "text/plain": [
       "<Figure size 720x360 with 1 Axes>"
      ]
     },
     "metadata": {
      "needs_background": "light"
     },
     "output_type": "display_data"
    }
   ],
   "source": [
    "bins = 50\n",
    "plt.figure(figsize=(10,5))\n",
    "plt.hist(gold_train['sum_conc_rougher_input'], bins, alpha=0.5, label='сырье')\n",
    "plt.hist(gold_train['sum_conc_rougher_output'], bins, alpha=0.5, label='черновой концентрат')\n",
    "plt.hist(gold_train['sum_conc_final_output'], bins, alpha=0.5, label='финальный концентрат')       \n",
    "plt.grid()\n",
    "plt.legend()\n",
    "plt.ylabel('Суммарная концентрация всех веществ') \n",
    "plt.xlabel('Концентрация') \n",
    "plt.show()"
   ]
  },
  {
   "cell_type": "markdown",
   "metadata": {},
   "source": [
    "Самые большие значения в черновом и финальном концетратах, но при этом колчество значений в финальном в 2 раза больше, чем в черновом.\n",
    "После сложения значений получилась нулевая сумма в финальном и черновом концентратах, данные значения необходимо удалить из обучающей выборки."
   ]
  },
  {
   "cell_type": "code",
   "execution_count": 31,
   "metadata": {},
   "outputs": [
    {
     "data": {
      "text/html": [
       "<div>\n",
       "<style scoped>\n",
       "    .dataframe tbody tr th:only-of-type {\n",
       "        vertical-align: middle;\n",
       "    }\n",
       "\n",
       "    .dataframe tbody tr th {\n",
       "        vertical-align: top;\n",
       "    }\n",
       "\n",
       "    .dataframe thead th {\n",
       "        text-align: right;\n",
       "    }\n",
       "</style>\n",
       "<table border=\"1\" class=\"dataframe\">\n",
       "  <thead>\n",
       "    <tr style=\"text-align: right;\">\n",
       "      <th></th>\n",
       "      <th>date</th>\n",
       "      <th>final.output.concentrate_ag</th>\n",
       "      <th>final.output.concentrate_pb</th>\n",
       "      <th>final.output.concentrate_sol</th>\n",
       "      <th>final.output.concentrate_au</th>\n",
       "      <th>final.output.recovery</th>\n",
       "      <th>final.output.tail_ag</th>\n",
       "      <th>final.output.tail_pb</th>\n",
       "      <th>final.output.tail_sol</th>\n",
       "      <th>final.output.tail_au</th>\n",
       "      <th>...</th>\n",
       "      <th>secondary_cleaner.state.floatbank4_b_level</th>\n",
       "      <th>secondary_cleaner.state.floatbank5_a_air</th>\n",
       "      <th>secondary_cleaner.state.floatbank5_a_level</th>\n",
       "      <th>secondary_cleaner.state.floatbank5_b_air</th>\n",
       "      <th>secondary_cleaner.state.floatbank5_b_level</th>\n",
       "      <th>secondary_cleaner.state.floatbank6_a_air</th>\n",
       "      <th>secondary_cleaner.state.floatbank6_a_level</th>\n",
       "      <th>sum_conc_rougher_input</th>\n",
       "      <th>sum_conc_rougher_output</th>\n",
       "      <th>sum_conc_final_output</th>\n",
       "    </tr>\n",
       "  </thead>\n",
       "  <tbody>\n",
       "  </tbody>\n",
       "</table>\n",
       "<p>0 rows × 90 columns</p>\n",
       "</div>"
      ],
      "text/plain": [
       "Empty DataFrame\n",
       "Columns: [date, final.output.concentrate_ag, final.output.concentrate_pb, final.output.concentrate_sol, final.output.concentrate_au, final.output.recovery, final.output.tail_ag, final.output.tail_pb, final.output.tail_sol, final.output.tail_au, primary_cleaner.input.sulfate, primary_cleaner.input.depressant, primary_cleaner.input.feed_size, primary_cleaner.input.xanthate, primary_cleaner.output.concentrate_ag, primary_cleaner.output.concentrate_pb, primary_cleaner.output.concentrate_sol, primary_cleaner.output.concentrate_au, primary_cleaner.output.tail_ag, primary_cleaner.output.tail_pb, primary_cleaner.output.tail_sol, primary_cleaner.output.tail_au, primary_cleaner.state.floatbank8_a_air, primary_cleaner.state.floatbank8_a_level, primary_cleaner.state.floatbank8_b_air, primary_cleaner.state.floatbank8_b_level, primary_cleaner.state.floatbank8_c_air, primary_cleaner.state.floatbank8_c_level, primary_cleaner.state.floatbank8_d_air, primary_cleaner.state.floatbank8_d_level, rougher.calculation.sulfate_to_au_concentrate, rougher.calculation.floatbank10_sulfate_to_au_feed, rougher.calculation.floatbank11_sulfate_to_au_feed, rougher.calculation.au_pb_ratio, rougher.input.feed_ag, rougher.input.feed_pb, rougher.input.feed_rate, rougher.input.feed_size, rougher.input.feed_sol, rougher.input.feed_au, rougher.input.floatbank10_sulfate, rougher.input.floatbank10_xanthate, rougher.input.floatbank11_sulfate, rougher.input.floatbank11_xanthate, rougher.output.concentrate_ag, rougher.output.concentrate_pb, rougher.output.concentrate_sol, rougher.output.concentrate_au, rougher.output.recovery, rougher.output.tail_ag, rougher.output.tail_pb, rougher.output.tail_sol, rougher.output.tail_au, rougher.state.floatbank10_a_air, rougher.state.floatbank10_a_level, rougher.state.floatbank10_b_air, rougher.state.floatbank10_b_level, rougher.state.floatbank10_c_air, rougher.state.floatbank10_c_level, rougher.state.floatbank10_d_air, rougher.state.floatbank10_d_level, rougher.state.floatbank10_e_air, rougher.state.floatbank10_e_level, rougher.state.floatbank10_f_air, rougher.state.floatbank10_f_level, secondary_cleaner.output.tail_ag, secondary_cleaner.output.tail_pb, secondary_cleaner.output.tail_sol, secondary_cleaner.output.tail_au, secondary_cleaner.state.floatbank2_a_air, secondary_cleaner.state.floatbank2_a_level, secondary_cleaner.state.floatbank2_b_air, secondary_cleaner.state.floatbank2_b_level, secondary_cleaner.state.floatbank3_a_air, secondary_cleaner.state.floatbank3_a_level, secondary_cleaner.state.floatbank3_b_air, secondary_cleaner.state.floatbank3_b_level, secondary_cleaner.state.floatbank4_a_air, secondary_cleaner.state.floatbank4_a_level, secondary_cleaner.state.floatbank4_b_air, secondary_cleaner.state.floatbank4_b_level, secondary_cleaner.state.floatbank5_a_air, secondary_cleaner.state.floatbank5_a_level, secondary_cleaner.state.floatbank5_b_air, secondary_cleaner.state.floatbank5_b_level, secondary_cleaner.state.floatbank6_a_air, secondary_cleaner.state.floatbank6_a_level, sum_conc_rougher_input, sum_conc_rougher_output, sum_conc_final_output]\n",
       "Index: []\n",
       "\n",
       "[0 rows x 90 columns]"
      ]
     },
     "execution_count": 31,
     "metadata": {},
     "output_type": "execute_result"
    }
   ],
   "source": [
    "#проверим отстутсвие нулевых значений в суммарной концентрации в сырье\n",
    "gold_train.query('sum_conc_rougher_input == 0')"
   ]
  },
  {
   "cell_type": "code",
   "execution_count": 32,
   "metadata": {},
   "outputs": [
    {
     "data": {
      "text/plain": [
       "2.099"
      ]
     },
     "execution_count": 32,
     "metadata": {},
     "output_type": "execute_result"
    }
   ],
   "source": [
    "# посчитаем процент нулевых значений в сумме в черновом концентрате\n",
    "round(len(gold_train.query('sum_conc_rougher_output == 0')) / \\\n",
    "      len(gold_train['sum_conc_rougher_output']) * 100, 3)"
   ]
  },
  {
   "cell_type": "code",
   "execution_count": 33,
   "metadata": {},
   "outputs": [
    {
     "data": {
      "text/plain": [
       "0.41"
      ]
     },
     "execution_count": 33,
     "metadata": {},
     "output_type": "execute_result"
    }
   ],
   "source": [
    "# посчитаем процент нулевых значений в сумме в финальном концентрате\n",
    "round(len(gold_train.query('sum_conc_final_output == 0')) / \\\n",
    "      len(gold_train['sum_conc_final_output']) * 100, 3)"
   ]
  },
  {
   "cell_type": "markdown",
   "metadata": {},
   "source": [
    "Процент данных небольшой, можем удалить."
   ]
  },
  {
   "cell_type": "code",
   "execution_count": 34,
   "metadata": {},
   "outputs": [],
   "source": [
    "gold_train = gold_train[(gold_train['sum_conc_rougher_output'] != 0) & \\\n",
    "(gold_train['sum_conc_final_output'] != 0)]"
   ]
  },
  {
   "cell_type": "markdown",
   "metadata": {},
   "source": [
    "***Вывод***\n",
    "\n",
    "На данном этапе мы выявили:\n",
    "- после всех этапов очистки максимальная коцентрация в финале у золота, а минимальная у серебра\n",
    "- распределение размеров гранул сырья на тренировочной и тестовой выборках отличаются минимально, что хорошо для оценки модели\n",
    "- суммарная коцентрация всех веществ увеличивается с каждым этапом очистки  и максимальна в финале\n",
    "- нулевые значения после подсчета суммарной концентрации и удалили их"
   ]
  },
  {
   "cell_type": "markdown",
   "metadata": {},
   "source": [
    "## Модель"
   ]
  },
  {
   "cell_type": "markdown",
   "metadata": {},
   "source": [
    "### Подготовка обучающей и тестовой выборок."
   ]
  },
  {
   "cell_type": "markdown",
   "metadata": {},
   "source": [
    "Некоторые признаки недоступны в тестовой выборке, потому что замеряются и/или рассчитываются значительно позже, поэтому их необходимо удалить из обучающий выборки."
   ]
  },
  {
   "cell_type": "code",
   "execution_count": 35,
   "metadata": {},
   "outputs": [],
   "source": [
    "#подкорректируем наш список с разницей в стобцах, удалив из него 2 целевых признака\n",
    "difference_in_columns.remove('rougher.output.recovery')\n",
    "difference_in_columns.remove('final.output.recovery')"
   ]
  },
  {
   "cell_type": "code",
   "execution_count": 36,
   "metadata": {},
   "outputs": [],
   "source": [
    "#удаляем разницу в стобцах из обучающей выборки\n",
    "gold_train = gold_train.drop(difference_in_columns, axis=1)"
   ]
  },
  {
   "cell_type": "code",
   "execution_count": 37,
   "metadata": {},
   "outputs": [],
   "source": [
    "#удаляем суммарную коцентрацию всех веществ и дату\n",
    "gold_train = gold_train.drop\\\n",
    "(['date','sum_conc_rougher_input','sum_conc_rougher_output','sum_conc_final_output'], axis= 1)"
   ]
  },
  {
   "cell_type": "code",
   "execution_count": 38,
   "metadata": {},
   "outputs": [],
   "source": [
    "gold_test = gold_test.drop(['date'],axis=1)"
   ]
  },
  {
   "cell_type": "code",
   "execution_count": 39,
   "metadata": {},
   "outputs": [
    {
     "data": {
      "text/plain": [
       "((13795, 54), (5290, 54))"
      ]
     },
     "execution_count": 39,
     "metadata": {},
     "output_type": "execute_result"
    }
   ],
   "source": [
    "#посмотрим на размер выборок\n",
    "gold_train.shape, gold_test.shape"
   ]
  },
  {
   "cell_type": "code",
   "execution_count": 40,
   "metadata": {},
   "outputs": [],
   "source": [
    "#подготовим признаки для обучающей выборки\n",
    "features_train = gold_train.drop(['final.output.recovery', 'rougher.output.recovery'], axis=1)\n",
    "target_train_rougher = gold_train['rougher.output.recovery']\n",
    "target_train_final = gold_train['final.output.recovery']"
   ]
  },
  {
   "cell_type": "code",
   "execution_count": 41,
   "metadata": {},
   "outputs": [],
   "source": [
    "#подготовим признаки для тестовой выборки\n",
    "features_test = gold_test.drop(['final.output.recovery', 'rougher.output.recovery'], axis=1)\n",
    "target_test_rougher = gold_test['rougher.output.recovery']\n",
    "target_test_final = gold_test['final.output.recovery']"
   ]
  },
  {
   "cell_type": "markdown",
   "metadata": {},
   "source": [
    "<p style=\"background-color: #F0FFF0; color: #228B22\">✔️ Отлично, данные готовы, пора их обучать)</p>"
   ]
  },
  {
   "cell_type": "markdown",
   "metadata": {},
   "source": [
    "### Функции для вычисления  sMAPE"
   ]
  },
  {
   "cell_type": "code",
   "execution_count": 42,
   "metadata": {},
   "outputs": [],
   "source": [
    "#для вычисления smape\n",
    "def smape(target, predictions):\n",
    "    res =\\\n",
    "    1/len(target) * np.sum(2*np.abs (target-predictions)/(np.abs (target)+np.abs (predictions))*100)\n",
    "    return res"
   ]
  },
  {
   "cell_type": "code",
   "execution_count": 43,
   "metadata": {},
   "outputs": [],
   "source": [
    "#для вычисления итоговой smape\n",
    "def result_smape(smape_rougher, smape_final):\n",
    "    res = 0.25*smape_rougher + 0.75*smape_final\n",
    "    return res"
   ]
  },
  {
   "cell_type": "code",
   "execution_count": 44,
   "metadata": {},
   "outputs": [],
   "source": [
    "#сделаем метрику smape\n",
    "smape_score = make_scorer(smape, greater_is_better=False)"
   ]
  },
  {
   "cell_type": "markdown",
   "metadata": {},
   "source": [
    "### Обучение моделей моделей и оценка их качества кросс-валидацией"
   ]
  },
  {
   "cell_type": "markdown",
   "metadata": {},
   "source": [
    "Перед обучением моделей проверим также корреляцию между признаками."
   ]
  },
  {
   "cell_type": "code",
   "execution_count": 45,
   "metadata": {},
   "outputs": [
    {
     "data": {
      "image/png": "[encoded data removed]",
      "text/plain": [
       "<Figure size 2160x720 with 2 Axes>"
      ]
     },
     "metadata": {
      "needs_background": "light"
     },
     "output_type": "display_data"
    }
   ],
   "source": [
    "#создадим корреляционную матрицу и отфильтруем ее\n",
    "corr = features_train.corr()\n",
    "filtered_corr = corr[((corr >= .8) | (corr <= -.8)) & (corr !=1.000)]\n",
    "plt.figure(figsize=(30,10))\n",
    "sns.heatmap(filtered_corr, annot=True, cmap=\"Reds\")\n",
    "plt.show()"
   ]
  },
  {
   "cell_type": "code",
   "execution_count": 46,
   "metadata": {},
   "outputs": [
    {
     "data": {
      "text/plain": [
       "rougher.state.floatbank10_f_level           rougher.state.floatbank10_e_level             0.988271\n",
       "rougher.state.floatbank10_c_level           rougher.state.floatbank10_b_level             0.987757\n",
       "rougher.state.floatbank10_d_level           rougher.state.floatbank10_c_level             0.987536\n",
       "rougher.state.floatbank10_e_level           rougher.state.floatbank10_c_level             0.984209\n",
       "rougher.state.floatbank10_d_level           rougher.state.floatbank10_b_level             0.977691\n",
       "rougher.state.floatbank10_f_level           rougher.state.floatbank10_c_level             0.976727\n",
       "rougher.state.floatbank10_d_level           rougher.state.floatbank10_e_level             0.976675\n",
       "                                            rougher.state.floatbank10_f_level             0.974439\n",
       "rougher.state.floatbank10_e_level           rougher.state.floatbank10_b_level             0.973262\n",
       "rougher.state.floatbank10_f_level           rougher.state.floatbank10_b_level             0.965981\n",
       "primary_cleaner.state.floatbank8_c_level    primary_cleaner.state.floatbank8_a_level      0.961698\n",
       "primary_cleaner.state.floatbank8_b_level    primary_cleaner.state.floatbank8_a_level      0.958893\n",
       "primary_cleaner.state.floatbank8_b_air      primary_cleaner.state.floatbank8_a_air        0.945224\n",
       "primary_cleaner.state.floatbank8_c_level    primary_cleaner.state.floatbank8_b_level      0.941396\n",
       "primary_cleaner.state.floatbank8_b_air      primary_cleaner.state.floatbank8_c_air        0.941113\n",
       "rougher.state.floatbank10_c_air             rougher.state.floatbank10_b_air               0.935089\n",
       "primary_cleaner.state.floatbank8_c_air      primary_cleaner.state.floatbank8_a_air        0.934893\n",
       "rougher.state.floatbank10_f_air             rougher.state.floatbank10_e_air               0.933510\n",
       "rougher.state.floatbank10_d_air             rougher.state.floatbank10_b_air               0.926498\n",
       "                                            rougher.state.floatbank10_c_air               0.910762\n",
       "secondary_cleaner.state.floatbank2_a_level  secondary_cleaner.state.floatbank2_b_level    0.903298\n",
       "secondary_cleaner.state.floatbank5_a_level  secondary_cleaner.state.floatbank5_b_level    0.892756\n",
       "rougher.input.floatbank11_xanthate          rougher.input.floatbank10_xanthate            0.892187\n",
       "secondary_cleaner.state.floatbank5_b_air    secondary_cleaner.state.floatbank5_a_air      0.892178\n",
       "                                            secondary_cleaner.state.floatbank4_b_air      0.879315\n",
       "secondary_cleaner.state.floatbank2_b_air    secondary_cleaner.state.floatbank2_a_air      0.876411\n",
       "rougher.state.floatbank10_e_air             rougher.state.floatbank10_d_air               0.873294\n",
       "rougher.state.floatbank10_d_air             rougher.state.floatbank10_f_air               0.860037\n",
       "rougher.input.feed_ag                       rougher.input.feed_au                         0.843579\n",
       "secondary_cleaner.state.floatbank4_a_air    secondary_cleaner.state.floatbank4_b_air      0.840997\n",
       "rougher.state.floatbank10_b_air             rougher.state.floatbank10_e_air               0.826064\n",
       "rougher.state.floatbank10_f_air             rougher.state.floatbank10_b_air               0.822124\n",
       "secondary_cleaner.state.floatbank4_b_air    secondary_cleaner.state.floatbank5_a_air      0.805821\n",
       "primary_cleaner.input.sulfate               primary_cleaner.input.sulfate                      NaN\n",
       "dtype: float64"
      ]
     },
     "execution_count": 46,
     "metadata": {},
     "output_type": "execute_result"
    }
   ],
   "source": [
    "#выведем на экран коэффициент корреляции от +- 0.8\n",
    "def corr_filter(x, bound: float):\n",
    "    x_corr = x.corr()\n",
    "    x_filtered = x_corr[((x_corr >= bound) | (x_corr <= -bound)) & (x_corr !=1.000)]\n",
    "    x_flattened = x_filtered.unstack().sort_values(ascending =False).drop_duplicates()\n",
    "    return x_flattened\n",
    "\n",
    "corr_filter(features_train, .8)"
   ]
  },
  {
   "cell_type": "markdown",
   "metadata": {},
   "source": [
    "Мы видим, что на разных этапах есть буквенные значения изменений (a,b,c и т.д.) объема воздуха (air) и уровня жидкости (level) и почти каждое \"буквенное изменение\" коррелирует между собой (\"f\" коррелирует с \"e\", \"c\" c \"d\"  и т.д). Оставим только столбцы с начальными буквами \"а\" и/или \"b\".\n",
    "Также сырье rougher.input.feed_ag и rougher.input.feed_au имеет коэффициент 0.843579, удалим один из них."
   ]
  },
  {
   "cell_type": "code",
   "execution_count": 47,
   "metadata": {},
   "outputs": [],
   "source": [
    "corr_columns = ['rougher.state.floatbank10_c_level','rougher.state.floatbank10_d_level', 'rougher.state.floatbank10_e_level',\\\n",
    "                'rougher.state.floatbank10_f_level', 'primary_cleaner.state.floatbank8_b_air', \n",
    "                'primary_cleaner.state.floatbank8_b_level','primary_cleaner.state.floatbank8_c_air',\n",
    "                'primary_cleaner.state.floatbank8_c_level',\n",
    "                'primary_cleaner.state.floatbank8_d_air','rougher.state.floatbank10_b_air','rougher.state.floatbank10_c_air',\n",
    "                'rougher.state.floatbank10_d_air', 'rougher.state.floatbank10_e_air', 'rougher.state.floatbank10_f_air',\n",
    "                'rougher.input.floatbank11_xanthate', 'secondary_cleaner.state.floatbank5_b_air', 'secondary_cleaner.state.floatbank2_b_air',\n",
    "                'secondary_cleaner.state.floatbank2_b_air', 'rougher.input.feed_ag', 'secondary_cleaner.state.floatbank4_b_air']"
   ]
  },
  {
   "cell_type": "code",
   "execution_count": 48,
   "metadata": {},
   "outputs": [
    {
     "data": {
      "text/plain": [
       "((13795, 33), (5290, 33))"
      ]
     },
     "execution_count": 48,
     "metadata": {},
     "output_type": "execute_result"
    }
   ],
   "source": [
    "features_train_corr = features_train.drop(corr_columns, axis=1)\n",
    "features_test_corr = features_test.drop(corr_columns, axis=1)\n",
    "features_train_corr.shape, features_test_corr.shape"
   ]
  },
  {
   "cell_type": "markdown",
   "metadata": {},
   "source": [
    "Так как у признаков разный масштаб, стандартизируем их для линейной регрессии."
   ]
  },
  {
   "cell_type": "code",
   "execution_count": 49,
   "metadata": {},
   "outputs": [],
   "source": [
    "scaler = StandardScaler()\n",
    "scaler.fit(features_train_corr)\n",
    "features_train_lr = scaler.transform(features_train_corr)\n",
    "features_test_lr = scaler.transform(features_test_corr)"
   ]
  },
  {
   "cell_type": "markdown",
   "metadata": {},
   "source": [
    "Переходим к обучению моделей."
   ]
  },
  {
   "cell_type": "markdown",
   "metadata": {},
   "source": [
    "***Линейная регрессия***"
   ]
  },
  {
   "cell_type": "code",
   "execution_count": 50,
   "metadata": {},
   "outputs": [
    {
     "name": "stdout",
     "output_type": "stream",
     "text": [
      "Средняя оценка smape_rougher для линейной регрессии: 6.954398968578995\n"
     ]
    }
   ],
   "source": [
    "model_lr = LinearRegression()\n",
    "scores_rougher_lr = \\\n",
    "cross_val_score(model_lr, features_train_lr, target_train_rougher,  scoring=smape_score, cv=5) \n",
    "smape_rougher_lr = scores_rougher_lr.mean() * (-1)\n",
    "print('Средняя оценка smape_rougher для линейной регрессии:', smape_rougher_lr)"
   ]
  },
  {
   "cell_type": "code",
   "execution_count": 51,
   "metadata": {},
   "outputs": [
    {
     "name": "stdout",
     "output_type": "stream",
     "text": [
      "Средняя оценка smape_final для линейной регрессии: 10.560107897095063\n"
     ]
    }
   ],
   "source": [
    "model_lr = LinearRegression()\n",
    "scores_final_lr = \\\n",
    "cross_val_score(model_lr, features_train_lr, target_train_final,  scoring=smape_score, cv=5) \n",
    "smape_final_lr = scores_final_lr.mean() * (-1)\n",
    "print('Средняя оценка smape_final для линейной регрессии:', smape_final_lr)"
   ]
  },
  {
   "cell_type": "code",
   "execution_count": 70,
   "metadata": {},
   "outputs": [
    {
     "name": "stdout",
     "output_type": "stream",
     "text": [
      "Итоговое smape для линейной регрессии: 9.658680664966045\n"
     ]
    }
   ],
   "source": [
    "result_smape_lr = result_smape(smape_rougher_lr, smape_final_lr)\n",
    "print('Итоговое smape для линейной регрессии:', result_smape_lr)"
   ]
  },
  {
   "cell_type": "markdown",
   "metadata": {},
   "source": [
    "***Дерево решений***"
   ]
  },
  {
   "cell_type": "code",
   "execution_count": 53,
   "metadata": {},
   "outputs": [
    {
     "name": "stdout",
     "output_type": "stream",
     "text": [
      "Глубина дерева: 3\n",
      "Средняя оценка smape_rougher для решающего дерева: 8.22581687814663\n"
     ]
    }
   ],
   "source": [
    "best_model_tree = None\n",
    "best_result_tree = 0\n",
    "best_depth_tree = 0\n",
    "\n",
    "for depth in range(1, 11):\n",
    "    model_tree = \\\n",
    "    DecisionTreeRegressor(random_state=12345, max_depth=depth) \n",
    "    scores_rougher_tree = \\\n",
    "    cross_val_score(model_tree, features_train_corr, target_train_rougher,  scoring=smape_score, cv=5) \n",
    "    smape_rougher_tree = scores_rougher_tree.mean() * (-1)\n",
    "    if smape_rougher_tree > best_result_tree:\n",
    "        best_model_tree = model_tree\n",
    "        best_result_tree = smape_rougher_tree\n",
    "        best_depth_tree = depth\n",
    "print (\"Глубина дерева:\", best_depth_tree)        \n",
    "print (\"Средняя оценка smape_rougher для решающего дерева:\",\\\n",
    "       best_result_tree)"
   ]
  },
  {
   "cell_type": "code",
   "execution_count": 54,
   "metadata": {},
   "outputs": [
    {
     "name": "stdout",
     "output_type": "stream",
     "text": [
      "Глубина дерева: 10\n",
      "Средняя оценка smape_final для решающего дерева: 13.841050526671316\n"
     ]
    }
   ],
   "source": [
    "final_best_model_tree = None\n",
    "final_best_result_tree = 0\n",
    "final_best_depth_tree = 0\n",
    "\n",
    "for depth in range(1, 11):\n",
    "    model_tree_final = \\\n",
    "    DecisionTreeRegressor(random_state=12345, max_depth=depth) \n",
    "    scores_final_tree = \\\n",
    "    cross_val_score(model_tree_final, features_train_corr, target_train_final,  scoring=smape_score, cv=5) \n",
    "    smape_final_tree = scores_final_tree.mean() * (-1)\n",
    "    if smape_final_tree > final_best_result_tree:\n",
    "        final_best_model_tree = model_tree_final\n",
    "        final_best_result_tree = smape_final_tree\n",
    "        final_best_depth_tree = depth\n",
    "print (\"Глубина дерева:\", final_best_depth_tree)        \n",
    "print (\"Средняя оценка smape_final для решающего дерева:\",\\\n",
    "       final_best_result_tree)"
   ]
  },
  {
   "cell_type": "code",
   "execution_count": 55,
   "metadata": {},
   "outputs": [
    {
     "name": "stdout",
     "output_type": "stream",
     "text": [
      "Итоговое smape для решающего дерева: 12.437242114540144\n"
     ]
    }
   ],
   "source": [
    "result_smape_tree = result_smape(best_result_tree, final_best_result_tree)\n",
    "print('Итоговое smape для решающего дерева:', result_smape_tree)"
   ]
  },
  {
   "cell_type": "markdown",
   "metadata": {},
   "source": [
    "***Случайный лес***"
   ]
  },
  {
   "cell_type": "code",
   "execution_count": 56,
   "metadata": {},
   "outputs": [
    {
     "name": "stdout",
     "output_type": "stream",
     "text": [
      "Количество деревьев: 300\n",
      "Средняя оценка smape_rougher для слуайного леса: 6.993318795257316\n"
     ]
    }
   ],
   "source": [
    "best_model_forest = None\n",
    "best_result_forest = 0\n",
    "best_est_forest = 0\n",
    "for est in range(300,400,50):\n",
    "    model_forest = \\\n",
    "    RandomForestRegressor(random_state=12345, n_estimators= est, max_depth = None)\n",
    "    scores_rougher_forest = \\\n",
    "    cross_val_score(model_forest, features_train_corr, target_train_rougher,  scoring=smape_score, cv=5)\n",
    "    smape_rougher_forest = scores_rougher_forest.mean() * (-1)\n",
    "    if smape_rougher_forest > best_result_forest:\n",
    "        best_model_forest = model_forest\n",
    "        best_result_forest = smape_rougher_forest\n",
    "        best_est_forest = est\n",
    "print (\"Количество деревьев:\", best_est_forest) \n",
    "print (\"Средняя оценка smape_rougher для слуайного леса:\",\\\n",
    "       best_result_forest)"
   ]
  },
  {
   "cell_type": "code",
   "execution_count": 68,
   "metadata": {},
   "outputs": [
    {
     "name": "stdout",
     "output_type": "stream",
     "text": [
      "Количество деревьев: 350\n",
      "Средняя оценка smape_final для слуайного леса: 9.817430584914003\n"
     ]
    }
   ],
   "source": [
    "final_best_model_forest = None\n",
    "final_best_result_forest = 0\n",
    "final_best_est_forest = 0\n",
    "for est in range(300,400,50):\n",
    "    model_forest_final = \\\n",
    "    RandomForestRegressor(random_state=12345, n_estimators= est, max_depth = None)\n",
    "    scores_final_forest = \\\n",
    "    cross_val_score\\\n",
    "    (model_forest_final, features_train_corr, target_train_final, scoring=smape_score, cv=5)\n",
    "    final_smape_rougher_forest = scores_final_forest.mean() * (-1)\n",
    "    if final_smape_rougher_forest > final_best_result_forest:\n",
    "        final_best_model_forest = model_forest_final\n",
    "        final_best_result_forest = final_smape_rougher_forest\n",
    "        final_best_est_forest = est\n",
    "print (\"Количество деревьев:\", final_best_est_forest) \n",
    "print (\"Средняя оценка smape_final для слуайного леса:\",\\\n",
    "       final_best_result_forest)"
   ]
  },
  {
   "cell_type": "code",
   "execution_count": 73,
   "metadata": {},
   "outputs": [
    {
     "name": "stdout",
     "output_type": "stream",
     "text": [
      "Итоговая smape для слуайного леса: 9.111402637499832\n"
     ]
    }
   ],
   "source": [
    "result_smape_forest = result_smape(best_result_forest, final_best_result_forest)\n",
    "print('Итоговая smape для слуайного леса:', result_smape_forest)"
   ]
  },
  {
   "cell_type": "code",
   "execution_count": 72,
   "metadata": {},
   "outputs": [
    {
     "data": {
      "text/html": [
       "<div>\n",
       "<style scoped>\n",
       "    .dataframe tbody tr th:only-of-type {\n",
       "        vertical-align: middle;\n",
       "    }\n",
       "\n",
       "    .dataframe tbody tr th {\n",
       "        vertical-align: top;\n",
       "    }\n",
       "\n",
       "    .dataframe thead th {\n",
       "        text-align: right;\n",
       "    }\n",
       "</style>\n",
       "<table border=\"1\" class=\"dataframe\">\n",
       "  <thead>\n",
       "    <tr style=\"text-align: right;\">\n",
       "      <th></th>\n",
       "      <th>model_name</th>\n",
       "      <th>result_smape</th>\n",
       "    </tr>\n",
       "  </thead>\n",
       "  <tbody>\n",
       "    <tr>\n",
       "      <th>0</th>\n",
       "      <td>RandomForestRegressor</td>\n",
       "      <td>9.111403</td>\n",
       "    </tr>\n",
       "    <tr>\n",
       "      <th>1</th>\n",
       "      <td>LinearRegression</td>\n",
       "      <td>9.658681</td>\n",
       "    </tr>\n",
       "    <tr>\n",
       "      <th>2</th>\n",
       "      <td>DecisionTreeRegressor</td>\n",
       "      <td>12.437242</td>\n",
       "    </tr>\n",
       "  </tbody>\n",
       "</table>\n",
       "</div>"
      ],
      "text/plain": [
       "              model_name  result_smape\n",
       "0  RandomForestRegressor      9.111403\n",
       "1       LinearRegression      9.658681\n",
       "2  DecisionTreeRegressor     12.437242"
      ]
     },
     "execution_count": 72,
     "metadata": {},
     "output_type": "execute_result"
    }
   ],
   "source": [
    "#выведем итоги в таблицу\n",
    "train = {'model_name':\\\n",
    "['DecisionTreeRegressor','RandomForestRegressor','LinearRegression'],\\\n",
    "'result_smape':[result_smape_tree, result_smape_forest, result_smape_lr]}\n",
    "train = pd.DataFrame(train)\n",
    "train.sort_values(by='result_smape').reset_index(drop = True)"
   ]
  },
  {
   "cell_type": "markdown",
   "metadata": {},
   "source": [
    "По итогам оценки, лучший результат показала модель случайного леса (9.11%). sMAPE - это «симметричное среднее абсолютное процентное отклонение», чем ниже показатель, тем лучше качество модели. Будем проверять лучшую модель на тестовой выборке."
   ]
  },
  {
   "cell_type": "markdown",
   "metadata": {},
   "source": [
    "### Проверка лучшей модели на тестовой выборке."
   ]
  },
  {
   "cell_type": "code",
   "execution_count": 74,
   "metadata": {},
   "outputs": [
    {
     "name": "stdout",
     "output_type": "stream",
     "text": [
      "smape_rougher на тестовой выборке: 9.02009483431198\n"
     ]
    }
   ],
   "source": [
    "best_model_forest.fit(features_train_corr, target_train_rougher)\n",
    "predict_rougher = best_model_forest.predict(features_test_corr)\n",
    "smape_test_rougher = smape(target_test_rougher, predict_rougher)\n",
    "print (\"smape_rougher на тестовой выборке:\", smape_test_rougher)"
   ]
  },
  {
   "cell_type": "code",
   "execution_count": 75,
   "metadata": {},
   "outputs": [
    {
     "name": "stdout",
     "output_type": "stream",
     "text": [
      "smape_final на тестовой выборке: 9.5998156367173\n"
     ]
    }
   ],
   "source": [
    "final_best_model_forest.fit(features_train_corr, target_train_final)\n",
    "predict_final = final_best_model_forest.predict(features_test_corr)\n",
    "smape_test_final = smape(target_test_final, predict_final)\n",
    "print (\"smape_final на тестовой выборке:\", smape_test_final)"
   ]
  },
  {
   "cell_type": "code",
   "execution_count": 76,
   "metadata": {},
   "outputs": [
    {
     "name": "stdout",
     "output_type": "stream",
     "text": [
      "Итоговая smape на тестовой выборке: 9.454885436115969\n"
     ]
    }
   ],
   "source": [
    "result_smape_test = result_smape(smape_test_rougher, smape_test_final)\n",
    "print('Итоговая smape на тестовой выборке:', result_smape_test)"
   ]
  },
  {
   "cell_type": "markdown",
   "metadata": {},
   "source": [
    "Проверим нашу модель на адекватность с помощью DummyRegressor:"
   ]
  },
  {
   "cell_type": "code",
   "execution_count": 77,
   "metadata": {},
   "outputs": [
    {
     "name": "stdout",
     "output_type": "stream",
     "text": [
      "smape_rougher для DummyRegressor: 9.06663080640154\n"
     ]
    }
   ],
   "source": [
    "dummy_regr_rougher = DummyRegressor(strategy=\"mean\")\n",
    "dummy_regr_rougher.fit(features_train_corr, target_train_rougher)\n",
    "dummy_rougher_predict = dummy_regr_rougher.predict(features_test_corr)\n",
    "smape_dummy_rougher = smape(target_test_rougher,dummy_rougher_predict)\n",
    "print (\"smape_rougher для DummyRegressor:\", smape_dummy_rougher)"
   ]
  },
  {
   "cell_type": "code",
   "execution_count": 78,
   "metadata": {},
   "outputs": [
    {
     "name": "stdout",
     "output_type": "stream",
     "text": [
      "smape_final для DummyRegressor: 10.074847136380473\n"
     ]
    }
   ],
   "source": [
    "dummy_regr_final = DummyRegressor(strategy=\"mean\")\n",
    "dummy_regr_final.fit(features_train_corr, target_train_final)\n",
    "dummy_final_predict = dummy_regr_final.predict(features_test_corr)\n",
    "smape_dummy_final = smape(target_test_final,dummy_final_predict)\n",
    "print (\"smape_final для DummyRegressor:\", smape_dummy_final)"
   ]
  },
  {
   "cell_type": "code",
   "execution_count": 79,
   "metadata": {},
   "outputs": [
    {
     "name": "stdout",
     "output_type": "stream",
     "text": [
      "Итоговое smape для DummyRegressor: 9.82279305388574\n"
     ]
    }
   ],
   "source": [
    "result_smape_dummy = result_smape(smape_dummy_rougher, smape_dummy_final)\n",
    "print('Итоговое smape для DummyRegressor:', result_smape_dummy)"
   ]
  },
  {
   "cell_type": "markdown",
   "metadata": {},
   "source": [
    "***Вывод***\n",
    " \n",
    "На тестовой выборке лучшая модель случайного леса показала результат итогового smape - 9,45%\n",
    "\n",
    "DummyRegressor, который использует простую стратегию, не обращая внимание на входные данные - 9.82%\n",
    "\n",
    "Возможно, нам необходимо знать большего признаков для построения модели лучшего качества."
   ]
  },
  {
   "cell_type": "markdown",
   "metadata": {},
   "source": [
    "## Общий вывод"
   ]
  },
  {
   "cell_type": "markdown",
   "metadata": {},
   "source": [
    "- мы познакомились с представленными нам датасетами, выявили пропуски в данных, изменили тип данных в столбце date \n",
    "\n",
    "- проверили правильность расчета эффективности обогощения для признака rougher.output.recovery и с помощью метрики mae не выявили отклонений\n",
    "\n",
    "- выявили различия в признаках между обучающей и тестовой выборках\n",
    "\n",
    "- провели предобработку (заполнили пропуски, изменили тип данных)\n",
    "\n",
    "- выяснили, что после всех этапов очистки максимальная коцентрация в финале у золота, а минимальная у серебра\n",
    "\n",
    "- суммарная коцентрация всех веществ увеличивается с каждым этапом очистки  и максимальна в финале\n",
    "\n",
    "- удалили нулевые значения в суммарной концентрации всех веществ\n",
    "\n",
    "- подготовили признаки для обучения моделей, разработали модели и проверили их качество с помощью метрики smape\n",
    "\n",
    "- после проверки выявили лучшую модель - случайный лес (итоговое smape 9,11%)\n",
    "\n",
    "- проверили модель на тестовой выборке и получили результат итогового smape 9,45%, что чуть лучше, чем у фиктивной модели DummyRegressor (9.82%).\n",
    " "
   ]
  }
 ],
 "metadata": {
  "ExecuteTimeLog": [
   {
    "duration": 1700,
    "start_time": "2023-01-24T14:41:30.077Z"
   },
   {
    "duration": 3126,
    "start_time": "2023-01-24T14:44:29.196Z"
   },
   {
    "duration": 33,
    "start_time": "2023-01-24T14:46:59.231Z"
   },
   {
    "duration": 21,
    "start_time": "2023-01-24T14:47:15.849Z"
   },
   {
    "duration": 16,
    "start_time": "2023-01-24T14:47:43.143Z"
   },
   {
    "duration": 22,
    "start_time": "2023-01-24T14:56:56.825Z"
   },
   {
    "duration": 18,
    "start_time": "2023-01-24T14:57:46.454Z"
   },
   {
    "duration": 21,
    "start_time": "2023-01-24T15:01:33.235Z"
   },
   {
    "duration": 13,
    "start_time": "2023-01-24T15:02:13.221Z"
   },
   {
    "duration": 39,
    "start_time": "2023-01-24T15:11:14.289Z"
   },
   {
    "duration": 4,
    "start_time": "2023-01-24T15:22:20.793Z"
   },
   {
    "duration": 4,
    "start_time": "2023-01-24T15:22:23.551Z"
   },
   {
    "duration": 6,
    "start_time": "2023-01-24T15:24:29.707Z"
   },
   {
    "duration": 57,
    "start_time": "2023-01-24T15:26:54.602Z"
   },
   {
    "duration": 5,
    "start_time": "2023-01-24T15:27:26.791Z"
   },
   {
    "duration": 4,
    "start_time": "2023-01-24T15:27:46.307Z"
   },
   {
    "duration": 6,
    "start_time": "2023-01-24T15:27:52.638Z"
   },
   {
    "duration": 5,
    "start_time": "2023-01-24T15:28:01.275Z"
   },
   {
    "duration": 7,
    "start_time": "2023-01-24T15:28:06.425Z"
   },
   {
    "duration": 5,
    "start_time": "2023-01-24T15:28:19.126Z"
   },
   {
    "duration": 49,
    "start_time": "2023-01-24T15:32:35.618Z"
   },
   {
    "duration": 5,
    "start_time": "2023-01-24T15:36:45.546Z"
   },
   {
    "duration": 5,
    "start_time": "2023-01-24T15:37:44.040Z"
   },
   {
    "duration": 63,
    "start_time": "2023-01-24T16:01:30.286Z"
   },
   {
    "duration": 589,
    "start_time": "2023-01-24T16:02:29.025Z"
   },
   {
    "duration": 3472,
    "start_time": "2023-01-24T16:03:04.906Z"
   },
   {
    "duration": 13,
    "start_time": "2023-01-24T16:03:36.108Z"
   },
   {
    "duration": 3554,
    "start_time": "2023-01-24T16:03:53.943Z"
   },
   {
    "duration": 9,
    "start_time": "2023-01-24T16:05:18.123Z"
   },
   {
    "duration": 3657,
    "start_time": "2023-01-24T16:05:30.026Z"
   },
   {
    "duration": 6,
    "start_time": "2023-01-24T16:05:36.422Z"
   },
   {
    "duration": 6,
    "start_time": "2023-01-24T16:05:41.851Z"
   },
   {
    "duration": 3464,
    "start_time": "2023-01-24T16:06:06.423Z"
   },
   {
    "duration": 6,
    "start_time": "2023-01-24T16:06:12.015Z"
   },
   {
    "duration": 5,
    "start_time": "2023-01-24T16:06:14.148Z"
   },
   {
    "duration": 404,
    "start_time": "2023-01-24T16:07:02.088Z"
   },
   {
    "duration": 3574,
    "start_time": "2023-01-24T16:07:35.869Z"
   },
   {
    "duration": 6,
    "start_time": "2023-01-24T16:07:39.445Z"
   },
   {
    "duration": 7,
    "start_time": "2023-01-24T16:07:53.839Z"
   },
   {
    "duration": 9,
    "start_time": "2023-01-24T16:08:08.304Z"
   },
   {
    "duration": 5,
    "start_time": "2023-01-24T16:08:37.345Z"
   },
   {
    "duration": 6,
    "start_time": "2023-01-24T16:08:39.383Z"
   },
   {
    "duration": 6,
    "start_time": "2023-01-24T16:08:53.618Z"
   },
   {
    "duration": 4,
    "start_time": "2023-01-24T16:09:03.447Z"
   },
   {
    "duration": 6,
    "start_time": "2023-01-24T16:09:21.687Z"
   },
   {
    "duration": 4,
    "start_time": "2023-01-24T16:09:52.378Z"
   },
   {
    "duration": 4,
    "start_time": "2023-01-24T16:11:43.043Z"
   },
   {
    "duration": 12,
    "start_time": "2023-01-24T16:11:48.625Z"
   },
   {
    "duration": 10,
    "start_time": "2023-01-24T16:11:50.057Z"
   },
   {
    "duration": 7,
    "start_time": "2023-01-24T16:11:53.017Z"
   },
   {
    "duration": 5,
    "start_time": "2023-01-24T16:11:54.942Z"
   },
   {
    "duration": 5,
    "start_time": "2023-01-24T16:12:00.822Z"
   },
   {
    "duration": 8,
    "start_time": "2023-01-24T16:12:50.788Z"
   },
   {
    "duration": 7,
    "start_time": "2023-01-24T16:13:08.403Z"
   },
   {
    "duration": 7,
    "start_time": "2023-01-24T16:13:25.112Z"
   },
   {
    "duration": 86,
    "start_time": "2023-01-24T16:20:05.088Z"
   },
   {
    "duration": 6,
    "start_time": "2023-01-24T16:32:26.754Z"
   },
   {
    "duration": 6,
    "start_time": "2023-01-24T16:33:05.680Z"
   },
   {
    "duration": 5,
    "start_time": "2023-01-24T16:33:24.799Z"
   },
   {
    "duration": 16,
    "start_time": "2023-01-24T16:35:18.667Z"
   },
   {
    "duration": 19,
    "start_time": "2023-01-24T16:40:53.149Z"
   },
   {
    "duration": 10,
    "start_time": "2023-01-24T16:41:13.557Z"
   },
   {
    "duration": 11,
    "start_time": "2023-01-24T16:41:30.514Z"
   },
   {
    "duration": 10,
    "start_time": "2023-01-24T16:42:05.809Z"
   },
   {
    "duration": 4,
    "start_time": "2023-01-24T16:42:17.150Z"
   },
   {
    "duration": 692,
    "start_time": "2023-01-24T16:42:17.157Z"
   },
   {
    "duration": 24,
    "start_time": "2023-01-24T16:42:17.851Z"
   },
   {
    "duration": 24,
    "start_time": "2023-01-24T16:42:17.877Z"
   },
   {
    "duration": 23,
    "start_time": "2023-01-24T16:42:17.920Z"
   },
   {
    "duration": 22,
    "start_time": "2023-01-24T16:42:17.945Z"
   },
   {
    "duration": 22,
    "start_time": "2023-01-24T16:42:17.969Z"
   },
   {
    "duration": 38,
    "start_time": "2023-01-24T16:42:17.993Z"
   },
   {
    "duration": 3,
    "start_time": "2023-01-24T16:42:18.033Z"
   },
   {
    "duration": 10,
    "start_time": "2023-01-24T16:42:18.037Z"
   },
   {
    "duration": 6,
    "start_time": "2023-01-24T16:42:18.049Z"
   },
   {
    "duration": 6,
    "start_time": "2023-01-24T16:42:18.056Z"
   },
   {
    "duration": 18,
    "start_time": "2023-01-24T16:42:18.064Z"
   },
   {
    "duration": 6,
    "start_time": "2023-01-24T16:42:18.085Z"
   },
   {
    "duration": 28,
    "start_time": "2023-01-24T16:42:18.093Z"
   },
   {
    "duration": 11,
    "start_time": "2023-01-24T16:42:18.123Z"
   },
   {
    "duration": 9,
    "start_time": "2023-01-24T16:42:18.136Z"
   },
   {
    "duration": 9,
    "start_time": "2023-01-24T16:42:18.147Z"
   },
   {
    "duration": 5,
    "start_time": "2023-01-24T16:42:18.158Z"
   },
   {
    "duration": 6,
    "start_time": "2023-01-24T16:42:18.165Z"
   },
   {
    "duration": 16,
    "start_time": "2023-01-24T16:42:18.173Z"
   },
   {
    "duration": 5,
    "start_time": "2023-01-24T16:55:17.963Z"
   },
   {
    "duration": 522,
    "start_time": "2023-01-24T16:55:46.538Z"
   },
   {
    "duration": 449,
    "start_time": "2023-01-24T16:56:09.277Z"
   },
   {
    "duration": 5,
    "start_time": "2023-01-24T16:57:56.904Z"
   },
   {
    "duration": 415,
    "start_time": "2023-01-24T16:58:08.734Z"
   },
   {
    "duration": 527,
    "start_time": "2023-01-24T17:00:15.610Z"
   },
   {
    "duration": 47,
    "start_time": "2023-01-24T17:12:37.660Z"
   },
   {
    "duration": 499,
    "start_time": "2023-01-24T17:15:14.644Z"
   },
   {
    "duration": 1257,
    "start_time": "2023-01-24T18:13:38.963Z"
   },
   {
    "duration": 1286,
    "start_time": "2023-01-24T18:14:53.480Z"
   },
   {
    "duration": 9,
    "start_time": "2023-01-24T18:16:13.997Z"
   },
   {
    "duration": 9,
    "start_time": "2023-01-24T18:16:42.921Z"
   },
   {
    "duration": 9,
    "start_time": "2023-01-24T18:17:00.978Z"
   },
   {
    "duration": 6,
    "start_time": "2023-01-24T18:17:16.157Z"
   },
   {
    "duration": 8,
    "start_time": "2023-01-24T18:17:27.480Z"
   },
   {
    "duration": 1348,
    "start_time": "2023-01-24T18:24:21.361Z"
   },
   {
    "duration": 872,
    "start_time": "2023-01-24T18:25:03.017Z"
   },
   {
    "duration": 996,
    "start_time": "2023-01-24T18:26:12.824Z"
   },
   {
    "duration": 3,
    "start_time": "2023-01-24T18:32:35.722Z"
   },
   {
    "duration": 7,
    "start_time": "2023-01-24T18:34:00.521Z"
   },
   {
    "duration": 9,
    "start_time": "2023-01-24T18:39:47.722Z"
   },
   {
    "duration": 410,
    "start_time": "2023-01-24T18:40:37.556Z"
   },
   {
    "duration": 410,
    "start_time": "2023-01-24T18:40:45.629Z"
   },
   {
    "duration": 532,
    "start_time": "2023-01-24T18:41:03.321Z"
   },
   {
    "duration": 29,
    "start_time": "2023-01-24T18:52:56.727Z"
   },
   {
    "duration": 23,
    "start_time": "2023-01-24T18:53:44.889Z"
   },
   {
    "duration": 11,
    "start_time": "2023-01-24T18:54:08.934Z"
   },
   {
    "duration": 11,
    "start_time": "2023-01-24T18:54:27.714Z"
   },
   {
    "duration": 11,
    "start_time": "2023-01-24T18:56:11.397Z"
   },
   {
    "duration": 3,
    "start_time": "2023-01-24T19:21:06.672Z"
   },
   {
    "duration": 8,
    "start_time": "2023-01-24T19:24:09.712Z"
   },
   {
    "duration": 55,
    "start_time": "2023-01-24T19:28:59.185Z"
   },
   {
    "duration": 6,
    "start_time": "2023-01-24T19:29:09.335Z"
   },
   {
    "duration": 17,
    "start_time": "2023-01-24T19:30:49.763Z"
   },
   {
    "duration": 15,
    "start_time": "2023-01-24T19:31:25.945Z"
   },
   {
    "duration": 4,
    "start_time": "2023-01-24T19:32:16.191Z"
   },
   {
    "duration": 753,
    "start_time": "2023-01-24T19:32:16.198Z"
   },
   {
    "duration": 21,
    "start_time": "2023-01-24T19:32:16.952Z"
   },
   {
    "duration": 28,
    "start_time": "2023-01-24T19:32:16.975Z"
   },
   {
    "duration": 35,
    "start_time": "2023-01-24T19:32:17.005Z"
   },
   {
    "duration": 20,
    "start_time": "2023-01-24T19:32:17.042Z"
   },
   {
    "duration": 22,
    "start_time": "2023-01-24T19:32:17.064Z"
   },
   {
    "duration": 38,
    "start_time": "2023-01-24T19:32:17.088Z"
   },
   {
    "duration": 4,
    "start_time": "2023-01-24T19:32:17.128Z"
   },
   {
    "duration": 9,
    "start_time": "2023-01-24T19:32:17.133Z"
   },
   {
    "duration": 7,
    "start_time": "2023-01-24T19:32:17.143Z"
   },
   {
    "duration": 10,
    "start_time": "2023-01-24T19:32:17.152Z"
   },
   {
    "duration": 18,
    "start_time": "2023-01-24T19:32:17.163Z"
   },
   {
    "duration": 6,
    "start_time": "2023-01-24T19:32:17.185Z"
   },
   {
    "duration": 7,
    "start_time": "2023-01-24T19:32:17.221Z"
   },
   {
    "duration": 9,
    "start_time": "2023-01-24T19:32:17.230Z"
   },
   {
    "duration": 10,
    "start_time": "2023-01-24T19:32:17.241Z"
   },
   {
    "duration": 9,
    "start_time": "2023-01-24T19:32:17.252Z"
   },
   {
    "duration": 5,
    "start_time": "2023-01-24T19:32:17.263Z"
   },
   {
    "duration": 8,
    "start_time": "2023-01-24T19:32:17.270Z"
   },
   {
    "duration": 44,
    "start_time": "2023-01-24T19:32:17.279Z"
   },
   {
    "duration": 6,
    "start_time": "2023-01-24T19:32:17.325Z"
   },
   {
    "duration": 470,
    "start_time": "2023-01-24T19:32:17.333Z"
   },
   {
    "duration": 419,
    "start_time": "2023-01-24T19:32:17.805Z"
   },
   {
    "duration": 477,
    "start_time": "2023-01-24T19:32:18.225Z"
   },
   {
    "duration": 1389,
    "start_time": "2023-01-24T19:32:18.704Z"
   },
   {
    "duration": 1075,
    "start_time": "2023-01-24T19:32:20.096Z"
   },
   {
    "duration": 3,
    "start_time": "2023-01-24T19:32:21.173Z"
   },
   {
    "duration": 12,
    "start_time": "2023-01-24T19:32:21.178Z"
   },
   {
    "duration": 546,
    "start_time": "2023-01-24T19:32:21.192Z"
   },
   {
    "duration": 29,
    "start_time": "2023-01-24T19:32:21.740Z"
   },
   {
    "duration": 15,
    "start_time": "2023-01-24T19:32:21.770Z"
   },
   {
    "duration": 46,
    "start_time": "2023-01-24T19:32:21.787Z"
   },
   {
    "duration": 9,
    "start_time": "2023-01-24T19:32:21.836Z"
   },
   {
    "duration": 26,
    "start_time": "2023-01-24T19:32:21.847Z"
   },
   {
    "duration": 14,
    "start_time": "2023-01-24T19:32:21.876Z"
   },
   {
    "duration": 24,
    "start_time": "2023-01-24T19:32:21.892Z"
   },
   {
    "duration": 5,
    "start_time": "2023-01-24T19:33:02.309Z"
   },
   {
    "duration": 11,
    "start_time": "2023-01-24T19:33:12.189Z"
   },
   {
    "duration": 4,
    "start_time": "2023-01-24T19:33:28.611Z"
   },
   {
    "duration": 726,
    "start_time": "2023-01-24T19:33:28.616Z"
   },
   {
    "duration": 20,
    "start_time": "2023-01-24T19:33:29.344Z"
   },
   {
    "duration": 27,
    "start_time": "2023-01-24T19:33:29.366Z"
   },
   {
    "duration": 30,
    "start_time": "2023-01-24T19:33:29.394Z"
   },
   {
    "duration": 17,
    "start_time": "2023-01-24T19:33:29.426Z"
   },
   {
    "duration": 21,
    "start_time": "2023-01-24T19:33:29.445Z"
   },
   {
    "duration": 13,
    "start_time": "2023-01-24T19:33:29.467Z"
   },
   {
    "duration": 3,
    "start_time": "2023-01-24T19:33:29.482Z"
   },
   {
    "duration": 5,
    "start_time": "2023-01-24T19:33:29.520Z"
   },
   {
    "duration": 8,
    "start_time": "2023-01-24T19:33:29.527Z"
   },
   {
    "duration": 7,
    "start_time": "2023-01-24T19:33:29.537Z"
   },
   {
    "duration": 17,
    "start_time": "2023-01-24T19:33:29.545Z"
   },
   {
    "duration": 7,
    "start_time": "2023-01-24T19:33:29.564Z"
   },
   {
    "duration": 11,
    "start_time": "2023-01-24T19:33:29.573Z"
   },
   {
    "duration": 37,
    "start_time": "2023-01-24T19:33:29.585Z"
   },
   {
    "duration": 6,
    "start_time": "2023-01-24T19:33:29.624Z"
   },
   {
    "duration": 10,
    "start_time": "2023-01-24T19:33:29.631Z"
   },
   {
    "duration": 5,
    "start_time": "2023-01-24T19:33:29.643Z"
   },
   {
    "duration": 6,
    "start_time": "2023-01-24T19:33:29.649Z"
   },
   {
    "duration": 16,
    "start_time": "2023-01-24T19:33:29.656Z"
   },
   {
    "duration": 5,
    "start_time": "2023-01-24T19:33:29.673Z"
   },
   {
    "duration": 419,
    "start_time": "2023-01-24T19:33:29.679Z"
   },
   {
    "duration": 435,
    "start_time": "2023-01-24T19:33:30.099Z"
   },
   {
    "duration": 530,
    "start_time": "2023-01-24T19:33:30.535Z"
   },
   {
    "duration": 1219,
    "start_time": "2023-01-24T19:33:31.067Z"
   },
   {
    "duration": 1002,
    "start_time": "2023-01-24T19:33:32.288Z"
   },
   {
    "duration": 3,
    "start_time": "2023-01-24T19:33:33.294Z"
   },
   {
    "duration": 25,
    "start_time": "2023-01-24T19:33:33.299Z"
   },
   {
    "duration": 390,
    "start_time": "2023-01-24T19:33:33.327Z"
   },
   {
    "duration": 29,
    "start_time": "2023-01-24T19:33:33.719Z"
   },
   {
    "duration": 13,
    "start_time": "2023-01-24T19:33:33.750Z"
   },
   {
    "duration": 28,
    "start_time": "2023-01-24T19:33:33.765Z"
   },
   {
    "duration": 10,
    "start_time": "2023-01-24T19:33:33.795Z"
   },
   {
    "duration": 5,
    "start_time": "2023-01-24T19:33:33.807Z"
   },
   {
    "duration": 5,
    "start_time": "2023-01-24T19:33:33.821Z"
   },
   {
    "duration": 10,
    "start_time": "2023-01-24T19:33:33.828Z"
   },
   {
    "duration": 8,
    "start_time": "2023-01-24T19:33:33.840Z"
   },
   {
    "duration": 8,
    "start_time": "2023-01-24T19:35:46.409Z"
   },
   {
    "duration": 4,
    "start_time": "2023-01-24T19:36:07.739Z"
   },
   {
    "duration": 4,
    "start_time": "2023-01-24T19:36:36.938Z"
   },
   {
    "duration": 5,
    "start_time": "2023-01-24T19:36:40.044Z"
   },
   {
    "duration": 5,
    "start_time": "2023-01-24T19:37:29.144Z"
   },
   {
    "duration": 4,
    "start_time": "2023-01-24T19:40:31.045Z"
   },
   {
    "duration": 3,
    "start_time": "2023-01-24T19:40:33.350Z"
   },
   {
    "duration": 3,
    "start_time": "2023-01-24T19:45:02.875Z"
   },
   {
    "duration": 3,
    "start_time": "2023-01-24T19:46:51.454Z"
   },
   {
    "duration": 2,
    "start_time": "2023-01-24T19:46:52.597Z"
   },
   {
    "duration": 2,
    "start_time": "2023-01-24T19:46:53.533Z"
   },
   {
    "duration": 3,
    "start_time": "2023-01-24T19:47:53.781Z"
   },
   {
    "duration": 3,
    "start_time": "2023-01-24T19:47:55.996Z"
   },
   {
    "duration": 3,
    "start_time": "2023-01-24T19:47:58.398Z"
   },
   {
    "duration": 1264,
    "start_time": "2023-01-24T19:49:43.258Z"
   },
   {
    "duration": 1341,
    "start_time": "2023-01-24T19:50:25.491Z"
   },
   {
    "duration": 4,
    "start_time": "2023-01-24T19:51:06.374Z"
   },
   {
    "duration": 51,
    "start_time": "2023-01-24T19:51:42.392Z"
   },
   {
    "duration": 15418,
    "start_time": "2023-01-24T19:52:30.488Z"
   },
   {
    "duration": 14810,
    "start_time": "2023-01-24T19:53:31.927Z"
   },
   {
    "duration": 4,
    "start_time": "2023-01-24T19:54:06.448Z"
   },
   {
    "duration": 1331222,
    "start_time": "2023-01-24T19:55:31.451Z"
   },
   {
    "duration": 17,
    "start_time": "2023-01-24T20:20:06.809Z"
   },
   {
    "duration": 1340136,
    "start_time": "2023-01-24T20:20:59.493Z"
   },
   {
    "duration": 4,
    "start_time": "2023-01-24T20:45:10.931Z"
   },
   {
    "duration": 10,
    "start_time": "2023-01-24T20:46:01.281Z"
   },
   {
    "duration": 14,
    "start_time": "2023-01-24T20:51:05.016Z"
   },
   {
    "duration": 12,
    "start_time": "2023-01-24T20:51:18.105Z"
   },
   {
    "duration": 10,
    "start_time": "2023-01-24T20:51:24.021Z"
   },
   {
    "duration": 5,
    "start_time": "2023-01-24T21:02:18.380Z"
   },
   {
    "duration": 607,
    "start_time": "2023-01-24T21:04:03.340Z"
   },
   {
    "duration": 623,
    "start_time": "2023-01-24T21:04:30.351Z"
   },
   {
    "duration": 634,
    "start_time": "2023-01-24T21:05:27.561Z"
   },
   {
    "duration": 624,
    "start_time": "2023-01-24T21:07:56.300Z"
   },
   {
    "duration": 596,
    "start_time": "2023-01-24T21:08:31.557Z"
   },
   {
    "duration": 4,
    "start_time": "2023-01-24T21:10:01.673Z"
   },
   {
    "duration": 3,
    "start_time": "2023-01-24T21:10:23.448Z"
   },
   {
    "duration": 7,
    "start_time": "2023-01-24T21:13:46.721Z"
   },
   {
    "duration": 7,
    "start_time": "2023-01-24T21:15:50.075Z"
   },
   {
    "duration": 3,
    "start_time": "2023-01-24T21:17:27.593Z"
   },
   {
    "duration": 1559,
    "start_time": "2023-01-25T15:27:39.657Z"
   },
   {
    "duration": 739,
    "start_time": "2023-01-25T15:27:41.218Z"
   },
   {
    "duration": 27,
    "start_time": "2023-01-25T15:27:41.959Z"
   },
   {
    "duration": 19,
    "start_time": "2023-01-25T15:27:41.987Z"
   },
   {
    "duration": 50,
    "start_time": "2023-01-25T15:27:42.009Z"
   },
   {
    "duration": 18,
    "start_time": "2023-01-25T15:27:42.061Z"
   },
   {
    "duration": 22,
    "start_time": "2023-01-25T15:27:42.080Z"
   },
   {
    "duration": 27,
    "start_time": "2023-01-25T15:27:42.103Z"
   },
   {
    "duration": 4,
    "start_time": "2023-01-25T15:27:42.132Z"
   },
   {
    "duration": 19,
    "start_time": "2023-01-25T15:27:42.139Z"
   },
   {
    "duration": 7,
    "start_time": "2023-01-25T15:27:42.161Z"
   },
   {
    "duration": 9,
    "start_time": "2023-01-25T15:27:42.170Z"
   },
   {
    "duration": 20,
    "start_time": "2023-01-25T15:27:42.181Z"
   },
   {
    "duration": 7,
    "start_time": "2023-01-25T15:27:42.204Z"
   },
   {
    "duration": 23,
    "start_time": "2023-01-25T15:27:42.212Z"
   },
   {
    "duration": 35,
    "start_time": "2023-01-25T15:27:42.236Z"
   },
   {
    "duration": 8,
    "start_time": "2023-01-25T15:27:42.273Z"
   },
   {
    "duration": 13,
    "start_time": "2023-01-25T15:27:42.282Z"
   },
   {
    "duration": 5,
    "start_time": "2023-01-25T15:27:42.297Z"
   },
   {
    "duration": 5,
    "start_time": "2023-01-25T15:27:42.304Z"
   },
   {
    "duration": 17,
    "start_time": "2023-01-25T15:27:42.311Z"
   },
   {
    "duration": 11,
    "start_time": "2023-01-25T15:27:42.330Z"
   },
   {
    "duration": 467,
    "start_time": "2023-01-25T15:27:42.343Z"
   },
   {
    "duration": 568,
    "start_time": "2023-01-25T15:27:42.812Z"
   },
   {
    "duration": 451,
    "start_time": "2023-01-25T15:27:43.382Z"
   },
   {
    "duration": 1506,
    "start_time": "2023-01-25T15:27:43.850Z"
   },
   {
    "duration": 908,
    "start_time": "2023-01-25T15:27:45.360Z"
   },
   {
    "duration": 3,
    "start_time": "2023-01-25T15:27:46.270Z"
   },
   {
    "duration": 16,
    "start_time": "2023-01-25T15:27:46.274Z"
   },
   {
    "duration": 503,
    "start_time": "2023-01-25T15:27:46.292Z"
   },
   {
    "duration": 34,
    "start_time": "2023-01-25T15:27:46.797Z"
   },
   {
    "duration": 27,
    "start_time": "2023-01-25T15:27:46.832Z"
   },
   {
    "duration": 11,
    "start_time": "2023-01-25T15:27:46.861Z"
   },
   {
    "duration": 11,
    "start_time": "2023-01-25T15:27:46.874Z"
   },
   {
    "duration": 3,
    "start_time": "2023-01-25T15:27:46.886Z"
   },
   {
    "duration": 9,
    "start_time": "2023-01-25T15:27:46.891Z"
   },
   {
    "duration": 7,
    "start_time": "2023-01-25T15:27:46.927Z"
   },
   {
    "duration": 26,
    "start_time": "2023-01-25T15:27:46.936Z"
   },
   {
    "duration": 6,
    "start_time": "2023-01-25T15:27:46.964Z"
   },
   {
    "duration": 11,
    "start_time": "2023-01-25T15:27:46.972Z"
   },
   {
    "duration": 5,
    "start_time": "2023-01-25T15:27:46.987Z"
   },
   {
    "duration": 5,
    "start_time": "2023-01-25T15:27:46.994Z"
   },
   {
    "duration": 5,
    "start_time": "2023-01-25T15:27:47.001Z"
   },
   {
    "duration": 8,
    "start_time": "2023-01-25T15:27:47.008Z"
   },
   {
    "duration": 1519,
    "start_time": "2023-01-25T15:27:47.018Z"
   },
   {
    "duration": 1920,
    "start_time": "2023-01-25T15:27:48.543Z"
   },
   {
    "duration": 4,
    "start_time": "2023-01-25T15:27:50.465Z"
   },
   {
    "duration": 14974,
    "start_time": "2023-01-25T15:27:50.471Z"
   },
   {
    "duration": 15114,
    "start_time": "2023-01-25T15:28:05.447Z"
   },
   {
    "duration": 4,
    "start_time": "2023-01-25T15:28:20.563Z"
   },
   {
    "duration": 774179,
    "start_time": "2023-01-25T15:28:20.569Z"
   },
   {
    "duration": 1,
    "start_time": "2023-01-25T15:41:14.750Z"
   },
   {
    "duration": 0,
    "start_time": "2023-01-25T15:41:14.751Z"
   },
   {
    "duration": 0,
    "start_time": "2023-01-25T15:41:14.752Z"
   },
   {
    "duration": 0,
    "start_time": "2023-01-25T15:41:14.754Z"
   },
   {
    "duration": 0,
    "start_time": "2023-01-25T15:41:14.755Z"
   },
   {
    "duration": 0,
    "start_time": "2023-01-25T15:41:14.756Z"
   },
   {
    "duration": 0,
    "start_time": "2023-01-25T15:41:14.757Z"
   },
   {
    "duration": 0,
    "start_time": "2023-01-25T15:41:14.758Z"
   },
   {
    "duration": 0,
    "start_time": "2023-01-25T15:41:14.759Z"
   },
   {
    "duration": 1960,
    "start_time": "2023-01-25T15:41:34.718Z"
   },
   {
    "duration": 632688,
    "start_time": "2023-01-25T15:41:46.703Z"
   },
   {
    "duration": 23,
    "start_time": "2023-01-25T15:52:53.760Z"
   },
   {
    "duration": 1371492,
    "start_time": "2023-01-25T15:53:17.889Z"
   },
   {
    "duration": 0,
    "start_time": "2023-01-25T16:16:09.383Z"
   },
   {
    "duration": 0,
    "start_time": "2023-01-25T16:16:09.385Z"
   },
   {
    "duration": 0,
    "start_time": "2023-01-25T16:16:09.386Z"
   },
   {
    "duration": 0,
    "start_time": "2023-01-25T16:16:09.387Z"
   },
   {
    "duration": 0,
    "start_time": "2023-01-25T16:16:09.388Z"
   },
   {
    "duration": 5,
    "start_time": "2023-01-25T16:16:22.063Z"
   },
   {
    "duration": 11,
    "start_time": "2023-01-25T16:16:31.525Z"
   },
   {
    "duration": 10,
    "start_time": "2023-01-25T16:44:49.758Z"
   },
   {
    "duration": 5,
    "start_time": "2023-01-25T16:44:51.966Z"
   },
   {
    "duration": 3,
    "start_time": "2023-01-25T16:45:59.261Z"
   },
   {
    "duration": 7,
    "start_time": "2023-01-25T16:46:08.653Z"
   },
   {
    "duration": 628,
    "start_time": "2023-01-25T16:46:31.084Z"
   },
   {
    "duration": 7,
    "start_time": "2023-01-25T16:46:38.085Z"
   },
   {
    "duration": 8,
    "start_time": "2023-01-25T16:46:42.211Z"
   },
   {
    "duration": 25,
    "start_time": "2023-01-25T16:48:42.587Z"
   },
   {
    "duration": 5,
    "start_time": "2023-01-25T16:49:19.866Z"
   },
   {
    "duration": 76,
    "start_time": "2023-01-25T16:50:27.378Z"
   },
   {
    "duration": 1187658,
    "start_time": "2023-01-25T16:50:43.601Z"
   },
   {
    "duration": 4,
    "start_time": "2023-01-25T17:10:31.261Z"
   },
   {
    "duration": 134659,
    "start_time": "2023-01-25T17:11:59.913Z"
   },
   {
    "duration": 21,
    "start_time": "2023-01-25T17:14:28.928Z"
   },
   {
    "duration": 4,
    "start_time": "2023-01-25T17:14:59.103Z"
   },
   {
    "duration": 3,
    "start_time": "2023-01-25T17:17:38.364Z"
   },
   {
    "duration": 13,
    "start_time": "2023-01-25T17:18:10.506Z"
   },
   {
    "duration": 11,
    "start_time": "2023-01-25T17:18:43.431Z"
   },
   {
    "duration": 7,
    "start_time": "2023-01-25T17:18:46.761Z"
   },
   {
    "duration": 1851,
    "start_time": "2023-01-26T20:18:54.674Z"
   },
   {
    "duration": 75,
    "start_time": "2023-01-26T20:19:50.635Z"
   },
   {
    "duration": 4,
    "start_time": "2023-01-26T20:20:32.871Z"
   },
   {
    "duration": 1901,
    "start_time": "2023-01-26T20:23:42.330Z"
   },
   {
    "duration": 23,
    "start_time": "2023-01-26T20:23:45.832Z"
   },
   {
    "duration": 19,
    "start_time": "2023-01-26T20:23:48.185Z"
   },
   {
    "duration": 18,
    "start_time": "2023-01-26T20:23:50.248Z"
   },
   {
    "duration": 16,
    "start_time": "2023-01-26T20:23:52.631Z"
   },
   {
    "duration": 18,
    "start_time": "2023-01-26T20:23:54.558Z"
   },
   {
    "duration": 11,
    "start_time": "2023-01-26T20:23:57.012Z"
   },
   {
    "duration": 3,
    "start_time": "2023-01-26T20:24:00.483Z"
   },
   {
    "duration": 5,
    "start_time": "2023-01-26T20:24:05.352Z"
   },
   {
    "duration": 4,
    "start_time": "2023-01-26T20:24:07.773Z"
   },
   {
    "duration": 4,
    "start_time": "2023-01-26T20:24:12.221Z"
   },
   {
    "duration": 14,
    "start_time": "2023-01-26T20:25:16.337Z"
   },
   {
    "duration": 7,
    "start_time": "2023-01-26T20:25:21.430Z"
   },
   {
    "duration": 7,
    "start_time": "2023-01-26T20:25:22.609Z"
   },
   {
    "duration": 5,
    "start_time": "2023-01-26T20:25:23.847Z"
   },
   {
    "duration": 6,
    "start_time": "2023-01-26T20:25:27.124Z"
   },
   {
    "duration": 6,
    "start_time": "2023-01-26T20:25:28.795Z"
   },
   {
    "duration": 5,
    "start_time": "2023-01-26T20:25:29.816Z"
   },
   {
    "duration": 7,
    "start_time": "2023-01-26T20:25:30.722Z"
   },
   {
    "duration": 15,
    "start_time": "2023-01-26T20:25:34.457Z"
   },
   {
    "duration": 6,
    "start_time": "2023-01-26T20:25:39.193Z"
   },
   {
    "duration": 385,
    "start_time": "2023-01-26T20:25:41.080Z"
   },
   {
    "duration": 433,
    "start_time": "2023-01-26T20:25:46.682Z"
   },
   {
    "duration": 354,
    "start_time": "2023-01-26T20:25:50.799Z"
   },
   {
    "duration": 108,
    "start_time": "2023-01-26T20:31:28.984Z"
   },
   {
    "duration": 1208,
    "start_time": "2023-01-26T20:31:49.753Z"
   },
   {
    "duration": 805,
    "start_time": "2023-01-26T20:31:54.554Z"
   },
   {
    "duration": 2,
    "start_time": "2023-01-26T20:31:57.833Z"
   },
   {
    "duration": 9,
    "start_time": "2023-01-26T20:31:59.177Z"
   },
   {
    "duration": 344,
    "start_time": "2023-01-26T20:32:00.602Z"
   },
   {
    "duration": 28,
    "start_time": "2023-01-26T20:32:03.005Z"
   },
   {
    "duration": 12,
    "start_time": "2023-01-26T20:32:04.885Z"
   },
   {
    "duration": 10,
    "start_time": "2023-01-26T20:32:06.052Z"
   },
   {
    "duration": 10,
    "start_time": "2023-01-26T20:32:07.519Z"
   },
   {
    "duration": 3,
    "start_time": "2023-01-26T20:32:12.838Z"
   },
   {
    "duration": 6,
    "start_time": "2023-01-26T20:32:14.076Z"
   },
   {
    "duration": 5,
    "start_time": "2023-01-26T20:32:15.050Z"
   },
   {
    "duration": 5,
    "start_time": "2023-01-26T20:32:16.064Z"
   },
   {
    "duration": 4,
    "start_time": "2023-01-26T20:32:18.183Z"
   },
   {
    "duration": 5,
    "start_time": "2023-01-26T20:32:20.889Z"
   },
   {
    "duration": 5,
    "start_time": "2023-01-26T20:32:22.057Z"
   },
   {
    "duration": 3,
    "start_time": "2023-01-26T20:32:26.931Z"
   },
   {
    "duration": 2,
    "start_time": "2023-01-26T20:32:27.953Z"
   },
   {
    "duration": 3,
    "start_time": "2023-01-26T20:32:28.935Z"
   },
   {
    "duration": 3669,
    "start_time": "2023-01-26T20:32:32.480Z"
   },
   {
    "duration": 88,
    "start_time": "2023-01-26T20:33:22.687Z"
   },
   {
    "duration": 3,
    "start_time": "2023-01-26T20:34:21.965Z"
   },
   {
    "duration": 7,
    "start_time": "2023-01-26T20:34:40.734Z"
   },
   {
    "duration": 14,
    "start_time": "2023-01-26T20:35:23.860Z"
   },
   {
    "duration": 1070,
    "start_time": "2023-01-26T20:36:19.825Z"
   },
   {
    "duration": 684,
    "start_time": "2023-01-26T20:36:55.118Z"
   },
   {
    "duration": 964,
    "start_time": "2023-01-26T20:37:34.721Z"
   },
   {
    "duration": 3,
    "start_time": "2023-01-26T20:37:40.266Z"
   },
   {
    "duration": 8355,
    "start_time": "2023-01-26T20:44:44.475Z"
   },
   {
    "duration": 8224,
    "start_time": "2023-01-26T20:45:12.584Z"
   },
   {
    "duration": 4,
    "start_time": "2023-01-26T20:45:42.814Z"
   },
   {
    "duration": 1593,
    "start_time": "2023-01-26T21:12:04.773Z"
   },
   {
    "duration": 3145,
    "start_time": "2023-01-26T21:12:06.369Z"
   },
   {
    "duration": 25,
    "start_time": "2023-01-26T21:12:09.516Z"
   },
   {
    "duration": 20,
    "start_time": "2023-01-26T21:12:09.543Z"
   },
   {
    "duration": 33,
    "start_time": "2023-01-26T21:12:09.566Z"
   },
   {
    "duration": 16,
    "start_time": "2023-01-26T21:12:09.600Z"
   },
   {
    "duration": 20,
    "start_time": "2023-01-26T21:12:09.618Z"
   },
   {
    "duration": 20,
    "start_time": "2023-01-26T21:12:09.639Z"
   },
   {
    "duration": 3,
    "start_time": "2023-01-26T21:12:09.661Z"
   },
   {
    "duration": 5,
    "start_time": "2023-01-26T21:12:09.692Z"
   },
   {
    "duration": 5,
    "start_time": "2023-01-26T21:12:09.699Z"
   },
   {
    "duration": 6,
    "start_time": "2023-01-26T21:12:09.705Z"
   },
   {
    "duration": 14,
    "start_time": "2023-01-26T21:12:09.712Z"
   },
   {
    "duration": 7,
    "start_time": "2023-01-26T21:12:09.729Z"
   },
   {
    "duration": 9,
    "start_time": "2023-01-26T21:12:09.737Z"
   },
   {
    "duration": 44,
    "start_time": "2023-01-26T21:12:09.748Z"
   },
   {
    "duration": 11,
    "start_time": "2023-01-26T21:12:09.793Z"
   },
   {
    "duration": 20,
    "start_time": "2023-01-26T21:12:09.806Z"
   },
   {
    "duration": 14,
    "start_time": "2023-01-26T21:12:09.829Z"
   },
   {
    "duration": 6,
    "start_time": "2023-01-26T21:12:09.845Z"
   },
   {
    "duration": 21,
    "start_time": "2023-01-26T21:12:09.853Z"
   },
   {
    "duration": 4,
    "start_time": "2023-01-26T21:12:09.876Z"
   },
   {
    "duration": 455,
    "start_time": "2023-01-26T21:12:09.891Z"
   },
   {
    "duration": 482,
    "start_time": "2023-01-26T21:12:10.348Z"
   },
   {
    "duration": 430,
    "start_time": "2023-01-26T21:12:10.831Z"
   },
   {
    "duration": 1341,
    "start_time": "2023-01-26T21:12:11.262Z"
   },
   {
    "duration": 778,
    "start_time": "2023-01-26T21:12:12.605Z"
   },
   {
    "duration": 3,
    "start_time": "2023-01-26T21:12:13.384Z"
   },
   {
    "duration": 10,
    "start_time": "2023-01-26T21:12:13.392Z"
   },
   {
    "duration": 412,
    "start_time": "2023-01-26T21:12:13.404Z"
   },
   {
    "duration": 34,
    "start_time": "2023-01-26T21:12:13.818Z"
   },
   {
    "duration": 21,
    "start_time": "2023-01-26T21:12:13.854Z"
   },
   {
    "duration": 14,
    "start_time": "2023-01-26T21:12:13.892Z"
   },
   {
    "duration": 12,
    "start_time": "2023-01-26T21:12:13.907Z"
   },
   {
    "duration": 2,
    "start_time": "2023-01-26T21:12:13.921Z"
   },
   {
    "duration": 9,
    "start_time": "2023-01-26T21:12:13.925Z"
   },
   {
    "duration": 8,
    "start_time": "2023-01-26T21:12:13.936Z"
   },
   {
    "duration": 15,
    "start_time": "2023-01-26T21:12:13.946Z"
   },
   {
    "duration": 9,
    "start_time": "2023-01-26T21:12:13.963Z"
   },
   {
    "duration": 22,
    "start_time": "2023-01-26T21:12:13.974Z"
   },
   {
    "duration": 8,
    "start_time": "2023-01-26T21:12:14.002Z"
   },
   {
    "duration": 4,
    "start_time": "2023-01-26T21:12:14.012Z"
   },
   {
    "duration": 9,
    "start_time": "2023-01-26T21:12:14.018Z"
   },
   {
    "duration": 6,
    "start_time": "2023-01-26T21:12:14.029Z"
   },
   {
    "duration": 3800,
    "start_time": "2023-01-26T21:12:14.037Z"
   },
   {
    "duration": 91,
    "start_time": "2023-01-26T21:12:17.838Z"
   },
   {
    "duration": 3,
    "start_time": "2023-01-26T21:12:17.930Z"
   },
   {
    "duration": 10,
    "start_time": "2023-01-26T21:12:17.934Z"
   },
   {
    "duration": 27,
    "start_time": "2023-01-26T21:12:17.945Z"
   },
   {
    "duration": 926,
    "start_time": "2023-01-26T21:12:17.973Z"
   },
   {
    "duration": 1394,
    "start_time": "2023-01-26T21:12:18.902Z"
   },
   {
    "duration": 4,
    "start_time": "2023-01-26T21:12:20.298Z"
   },
   {
    "duration": 8884,
    "start_time": "2023-01-26T21:12:20.304Z"
   },
   {
    "duration": 8848,
    "start_time": "2023-01-26T21:12:29.190Z"
   },
   {
    "duration": 3,
    "start_time": "2023-01-26T21:12:38.040Z"
   },
   {
    "duration": 915388,
    "start_time": "2023-01-26T21:12:38.045Z"
   },
   {
    "duration": 1151709,
    "start_time": "2023-01-26T21:27:53.434Z"
   },
   {
    "duration": 4,
    "start_time": "2023-01-26T21:47:05.145Z"
   },
   {
    "duration": 4,
    "start_time": "2023-01-26T22:15:47.731Z"
   },
   {
    "duration": 11,
    "start_time": "2023-01-26T22:15:47.737Z"
   },
   {
    "duration": 230,
    "start_time": "2023-01-26T22:15:47.749Z"
   },
   {
    "duration": 621,
    "start_time": "2023-01-26T22:15:47.981Z"
   },
   {
    "duration": 4,
    "start_time": "2023-01-26T22:15:48.603Z"
   },
   {
    "duration": 8,
    "start_time": "2023-01-26T22:15:48.609Z"
   },
   {
    "duration": 8,
    "start_time": "2023-01-26T22:15:48.619Z"
   },
   {
    "duration": 4,
    "start_time": "2023-01-26T22:15:48.628Z"
   },
   {
    "duration": 1033723,
    "start_time": "2023-01-26T22:15:48.635Z"
   },
   {
    "duration": 4,
    "start_time": "2023-01-27T06:23:38.363Z"
   },
   {
    "duration": 3,
    "start_time": "2023-01-27T06:24:45.302Z"
   },
   {
    "duration": 3,
    "start_time": "2023-01-27T06:25:12.612Z"
   },
   {
    "duration": 9,
    "start_time": "2023-01-27T06:25:35.878Z"
   },
   {
    "duration": 3,
    "start_time": "2023-01-27T06:28:34.426Z"
   },
   {
    "duration": 103753,
    "start_time": "2023-01-27T06:35:03.099Z"
   },
   {
    "duration": 139411,
    "start_time": "2023-01-27T06:43:04.399Z"
   },
   {
    "duration": 4,
    "start_time": "2023-01-27T06:46:39.212Z"
   },
   {
    "duration": 6,
    "start_time": "2023-01-27T06:47:24.586Z"
   },
   {
    "duration": 8,
    "start_time": "2023-01-27T06:47:27.745Z"
   },
   {
    "duration": 4,
    "start_time": "2023-01-27T06:47:31.705Z"
   }
  ],
  "kernelspec": {
   "display_name": "Python 3 (ipykernel)",
   "language": "python",
   "name": "python3"
  },
  "language_info": {
   "codemirror_mode": {
    "name": "ipython",
    "version": 3
   },
   "file_extension": ".py",
   "mimetype": "text/x-python",
   "name": "python",
   "nbconvert_exporter": "python",
   "pygments_lexer": "ipython3",
   "version": "3.9.16"
  },
  "toc": {
   "base_numbering": 1,
   "nav_menu": {},
   "number_sections": true,
   "sideBar": true,
   "skip_h1_title": true,
   "title_cell": "Содержание",
   "title_sidebar": "Contents",
   "toc_cell": true,
   "toc_position": {
    "height": "calc(100% - 180px)",
    "left": "10px",
    "top": "150px",
    "width": "165px"
   },
   "toc_section_display": true,
   "toc_window_display": true
  }
 },
 "nbformat": 4,
 "nbformat_minor": 2
}
